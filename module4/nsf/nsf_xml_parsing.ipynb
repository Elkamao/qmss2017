{
 "cells": [
  {
   "cell_type": "markdown",
   "metadata": {},
   "source": [
    "# Dataset: NSF Awards (1970-2016)"
   ]
  },
  {
   "cell_type": "markdown",
   "metadata": {},
   "source": [
    "## What is XML?\n",
    "From Wikipedia: \n",
    "*The Extensible Markup Language (XML) is a markup language that defines a set of rules for encoding documents in a format that is both human-readable (i.e. text-based) and machine-readable. XML emphasizes simplicity, generality, and usability across the Internet.*\n",
    "\n",
    "A basic XML document is organized hierarchically like a tree, with a single base (root) extending into multiple branches. Each branch will have an unique name and may extend into further branches (children) nested under the parent branch. \n",
    "\n",
    "## Parsing XML in Python\n",
    "Python provides support for XML parsing, and several XML-parsing packages are included in the Anaconda distribution. Here we will use a simple package, *xml*, to inspect the contents of the very first XML file of our dataset."
   ]
  },
  {
   "cell_type": "code",
   "execution_count": null,
   "metadata": {
    "collapsed": false
   },
   "outputs": [],
   "source": [
    "import os\n",
    "from xml.etree import ElementTree\n",
    "\n",
    "## Use the ElementTree command to parse the XML file.\n",
    "tree = ElementTree.parse(os.path.join('1970','7000047.xml'))\n",
    "\n",
    "## Extract the \"root\" of the XML file from the tree.\n",
    "root = tree.getroot()\n",
    "\n",
    "## Inspect the branches of the root.\n",
    "print('The branches of the root:')\n",
    "for n, branch in enumerate(root.getchildren()):\n",
    "    print(n+1,branch.tag)"
   ]
  },
  {
   "cell_type": "markdown",
   "metadata": {},
   "source": [
    "As confirmed by manual inspection of the XML document, our document contains only one root-branch: Award. Let's now inspect the children of the Award branch."
   ]
  },
  {
   "cell_type": "code",
   "execution_count": null,
   "metadata": {
    "collapsed": false
   },
   "outputs": [],
   "source": [
    "## Take the first (and only) branch of the root.\n",
    "Award = root[0]\n",
    "\n",
    "## Print all of the children of Award.\n",
    "print('The branches of the Award branch:')\n",
    "for n, child in enumerate(Award.getchildren()):\n",
    "    print(n+1,child.tag)"
   ]
  },
  {
   "cell_type": "markdown",
   "metadata": {},
   "source": [
    "Finally, let's now inspect the data stored under the child, AwardTitle."
   ]
  },
  {
   "cell_type": "code",
   "execution_count": null,
   "metadata": {
    "collapsed": false
   },
   "outputs": [],
   "source": [
    "## Extract the first child, AwardTitle, from the Award branch.\n",
    "AwardTitle = Award[0]\n",
    "\n",
    "## Inspect the data stored under AwardTitle.\n",
    "print(AwardTitle.tag, AwardTitle.text)"
   ]
  },
  {
   "cell_type": "markdown",
   "metadata": {},
   "source": [
    "After manual inspection of several of the XML documents, we are going to extract for further analysis the following fields:\n",
    "* AwardTitle: Title of the grant.\n",
    "* AwardAmount: Funds allocated by the grant.\n",
    "* Directorate: Awarding NSF Organization.\n",
    "* Division: Specific division of the Directorate.\n",
    "* AbstractNarration: The grant abstract.\n",
    "* InstitutionName: Awardee institution.\n",
    "* InstitutionStateCode: Awardee state.\n",
    "\n"
   ]
  },
  {
   "cell_type": "code",
   "execution_count": null,
   "metadata": {
    "collapsed": false
   },
   "outputs": [],
   "source": [
    "import os\n",
    "import numpy as np\n",
    "from pandas import DataFrame, Series\n",
    "from xml.etree import ElementTree\n",
    "\n",
    "#~~~~~~~~~~~~~~~~~~~~~~~~~~~~~~~~~~~~~~~~~~~~~~#\n",
    "### Setup.\n",
    "#~~~~~~~~~~~~~~~~~~~~~~~~~~~~~~~~~~~~~~~~~~~~~~#\n",
    "\n",
    "## Locate grant folders using the listdir command.\n",
    "grant_dirs = np.arange(1970,2017).astype(str)\n",
    "\n",
    "## Define column names.\n",
    "columns = ('Year', 'ID', 'Title', 'Funds', 'Directorate', 'Division',\n",
    "          'Institution', 'State')\n",
    "\n",
    "## Open a new file to document all XML files with parsing errors.\n",
    "errors = open('parsing_errors.txt', 'w')\n",
    "\n",
    "#~~~~~~~~~~~~~~~~~~~~~~~~~~~~~~~~~~~~~~~~~~~~~~#\n",
    "### Main loop.\n",
    "#~~~~~~~~~~~~~~~~~~~~~~~~~~~~~~~~~~~~~~~~~~~~~~#\n",
    "\n",
    "for gdir in grant_dirs:\n",
    "                \n",
    "    ## Define year.\n",
    "    year = gdir    \n",
    "    \n",
    "    #~~~~~~~~~~~~~~~~~~~~~~~~~~~~~~~~~~~~~~~~~~~~~~#\n",
    "    ### Initialize files (separate for each year).\n",
    "    #~~~~~~~~~~~~~~~~~~~~~~~~~~~~~~~~~~~~~~~~~~~~~~#\n",
    "    \n",
    "    ## Initialize empty pandas dataframe.\n",
    "    df = DataFrame([], columns=columns)\n",
    "    \n",
    "    ## Initialize text file for abstracts.\n",
    "    Abstracts = open(os.path.join(str(year), 'abstracts.txt'), 'w+')\n",
    "    \n",
    "    #~~~~~~~~~~~~~~~~~~~~~~~~~~~~~~~~~~~~~~~~~~~~~~#\n",
    "    ### Locate and loop over XML files for a year.\n",
    "    #~~~~~~~~~~~~~~~~~~~~~~~~~~~~~~~~~~~~~~~~~~~~~~#\n",
    "    \n",
    "    ## Locate all XML files (check if ends with '.xml')\n",
    "    xml_files = sorted([f for f in os.listdir(gdir) if f.endswith('.xml')])\n",
    "    \n",
    "    for xml in xml_files:\n",
    "        \n",
    "        #~~~~~~~~~~~~~~~~~~~~~~~~~~~~~~~~~~~~~~~~~~~~~~#\n",
    "        ### Open and parse XML file.\n",
    "        #~~~~~~~~~~~~~~~~~~~~~~~~~~~~~~~~~~~~~~~~~~~~~~#\n",
    "        \n",
    "        ## Use the ElementTree command to parse the XML file.\n",
    "        try: \n",
    "            tree = ElementTree.parse(os.path.join(gdir, xml))\n",
    "        except:\n",
    "            errors.write('%s\\n' %os.path.join(gdir, xml))\n",
    "            continue\n",
    "\n",
    "        ## Extract the \"root\" of the XML file from the tree.\n",
    "        root = tree.getroot()\n",
    "        \n",
    "        ## Take the first (and only) branch of the root.\n",
    "        Award = root[0]\n",
    "        \n",
    "        #~~~~~~~~~~~~~~~~~~~~~~~~~~~~~~~~~~~~~~~~~~~~~~#\n",
    "        ### Locate and store desired information.\n",
    "        #~~~~~~~~~~~~~~~~~~~~~~~~~~~~~~~~~~~~~~~~~~~~~~#\n",
    "        \n",
    "        ## Initialize series.\n",
    "        series = Series()\n",
    "        series['Year'] = year\n",
    "        series['ID'] = xml.replace('.xml','')\n",
    "        \n",
    "        ## Locate information.\n",
    "        series['Title'] = Award.find('AwardTitle').text\n",
    "        series['Funds'] = Award.find('AwardAmount').text\n",
    "        \n",
    "        organization = Award.find('Organization')\n",
    "        series['Directorate'] = organization.find('Directorate').find('LongName').text\n",
    "        series['Division'] = organization.find('Division').find('LongName').text\n",
    "        \n",
    "        institution = Award.find('Institution')\n",
    "        series['Institution'] = institution.find('Name').text\n",
    "        series['State'] = institution.find('StateCode').text\n",
    "        \n",
    "        ## Append to DataFrame.\n",
    "        df = df.append(series, ignore_index=True)\n",
    "        \n",
    "        #~~~~~~~~~~~~~~~~~~~~~~~~~~~~~~~~~~~~~~~~~~~~~~#\n",
    "        ### Write abstract to file (if possible).\n",
    "        #~~~~~~~~~~~~~~~~~~~~~~~~~~~~~~~~~~~~~~~~~~~~~~#\n",
    "                    \n",
    "        ## Extract abstract.\n",
    "        abstract = Award.find('AbstractNarration').text\n",
    "        if abstract is None: abstract = ''\n",
    "        \n",
    "        ## Write to file.\n",
    "        Abstracts.write('%s\\t%s\\n' %(series['ID'], abstract))\n",
    "\n",
    "    #~~~~~~~~~~~~~~~~~~~~~~~~~~~~~~~~~~~~~~~~~~~~~~#\n",
    "    ### Save dataframe for particular year.\n",
    "    #~~~~~~~~~~~~~~~~~~~~~~~~~~~~~~~~~~~~~~~~~~~~~~#\n",
    "    \n",
    "    ## Save CSV file.\n",
    "    df.to_csv(os.path.join(year, 'grants.csv'), index=False)\n",
    "                   \n",
    "    ## Save abstracts file.\n",
    "    Abstracts.close()\n",
    "        \n",
    "#~~~~~~~~~~~~~~~~~~~~~~~~~~~~~~~~~~~~~~~~~~~~~~#\n",
    "### Finish up.\n",
    "#~~~~~~~~~~~~~~~~~~~~~~~~~~~~~~~~~~~~~~~~~~~~~~#\n",
    "        \n",
    "## Save parsing errors file.\n",
    "errors.close()\n",
    "\n",
    "## Count total parsing errors.\n",
    "with open('parsing_errors.txt', 'r') as errors:\n",
    "    msg = '%s parsing errors occurred. See error file for details.'\n",
    "    print(msg %len(errors.readlines()))\n",
    "\n",
    "print('Done.')"
   ]
  }
 ],
 "metadata": {
  "kernelspec": {
   "display_name": "Python 3",
   "language": "python",
   "name": "python3"
  },
  "language_info": {
   "codemirror_mode": {
    "name": "ipython",
    "version": 3
   },
   "file_extension": ".py",
   "mimetype": "text/x-python",
   "name": "python",
   "nbconvert_exporter": "python",
   "pygments_lexer": "ipython3",
   "version": "3.6.0"
  },
  "toc": {
   "colors": {
    "hover_highlight": "#DAA520",
    "navigate_num": "#000000",
    "navigate_text": "#333333",
    "running_highlight": "#FF0000",
    "selected_highlight": "#FFD700",
    "sidebar_border": "#EEEEEE",
    "wrapper_background": "#FFFFFF"
   },
   "moveMenuLeft": true,
   "nav_menu": {
    "height": "153px",
    "width": "252px"
   },
   "navigate_menu": true,
   "number_sections": false,
   "sideBar": true,
   "threshold": 4,
   "toc_cell": false,
   "toc_section_display": "block",
   "toc_window_display": true,
   "widenNotebook": false
  }
 },
 "nbformat": 4,
 "nbformat_minor": 2
}
