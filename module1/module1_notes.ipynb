{
 "cells": [
  {
   "cell_type": "markdown",
   "metadata": {},
   "source": [
    "# Section 1: Introduction to Python"
   ]
  },
  {
   "cell_type": "markdown",
   "metadata": {},
   "source": [
    "## Printing and Getting Help"
   ]
  },
  {
   "cell_type": "code",
   "execution_count": 2,
   "metadata": {},
   "outputs": [
    {
     "name": "stdout",
     "output_type": "stream",
     "text": [
      "Hello, World!\n"
     ]
    }
   ],
   "source": [
    "## Use the print() command to display variables.\n",
    "print('Hello, World!')"
   ]
  },
  {
   "cell_type": "code",
   "execution_count": 3,
   "metadata": {},
   "outputs": [
    {
     "data": {
      "text/plain": [
       "'Hello, World!'"
      ]
     },
     "execution_count": 3,
     "metadata": {},
     "output_type": "execute_result"
    }
   ],
   "source": [
    "## With Jupyter notebooks, you can also call the variable itself.\n",
    "'Hello, World!'"
   ]
  },
  {
   "cell_type": "code",
   "execution_count": 4,
   "metadata": {
    "collapsed": true
   },
   "outputs": [],
   "source": [
    "## Getting help is easy in Notebooks: append a '?' to the end of a function/variable.\n",
    "print?"
   ]
  },
  {
   "cell_type": "markdown",
   "metadata": {},
   "source": [
    "## Basic Data Types in Python"
   ]
  },
  {
   "cell_type": "markdown",
   "metadata": {},
   "source": [
    "### Integers, Floats, and Mathematic Operations"
   ]
  },
  {
   "cell_type": "code",
   "execution_count": null,
   "metadata": {},
   "outputs": [],
   "source": [
    "## Integers are whole numbers (nothing after the 0s place).\n",
    "print(1)"
   ]
  },
  {
   "cell_type": "code",
   "execution_count": null,
   "metadata": {},
   "outputs": [],
   "source": [
    "## Floats are decimal numbers.\n",
    "print(1.3)\n",
    "\n",
    "## Adding a decimal point will convert an integer to a float.\n",
    "print(1.)"
   ]
  },
  {
   "cell_type": "code",
   "execution_count": null,
   "metadata": {},
   "outputs": [],
   "source": [
    "## These are the basic operators in python:\n",
    "print(4 + 2)   # Addition\n",
    "print(4 * 2)   # Multiplication\n",
    "print(4 / 2)   # Division\n",
    "print(4 % 2)   # Remainder\n",
    "print(4 ** 2)  # Exponent"
   ]
  },
  {
   "cell_type": "code",
   "execution_count": null,
   "metadata": {},
   "outputs": [],
   "source": [
    "## Floats dominate integers in operations:\n",
    "print(4 + 2.)\n",
    "print(4 / 2.)\n",
    "print(4 ** 2.)\n",
    "print(4 // 2) # Except for integer division!"
   ]
  },
  {
   "cell_type": "code",
   "execution_count": null,
   "metadata": {},
   "outputs": [],
   "source": [
    "## These are the comparison operators in python:\n",
    "print(4 > 2)    # Greater than\n",
    "print(4 < 2)    # Less than\n",
    "print(4 == 2)   # Equal to\n",
    "print(4 >= 2)   # Greater than or equal to\n",
    "print(4 <= 2)   # Less than or equal to\n",
    "print(4 != 2)   # Not equal to to"
   ]
  },
  {
   "cell_type": "code",
   "execution_count": null,
   "metadata": {},
   "outputs": [],
   "source": [
    "## Python also makes use of the is/is not operators (more on these later):\n",
    "print(4 is 2)\n",
    "print(4 is not 2)"
   ]
  },
  {
   "cell_type": "code",
   "execution_count": null,
   "metadata": {},
   "outputs": [],
   "source": [
    "## Python also supports scientific notation and complex numbers:\n",
    "print(1e3)\n",
    "print(2+3j)"
   ]
  },
  {
   "cell_type": "markdown",
   "metadata": {},
   "source": [
    "### Booleans"
   ]
  },
  {
   "cell_type": "code",
   "execution_count": 5,
   "metadata": {},
   "outputs": [
    {
     "name": "stdout",
     "output_type": "stream",
     "text": [
      "True False\n"
     ]
    }
   ],
   "source": [
    "print(True, False) # True, False are the Boolean classes."
   ]
  },
  {
   "cell_type": "code",
   "execution_count": 6,
   "metadata": {},
   "outputs": [
    {
     "name": "stdout",
     "output_type": "stream",
     "text": [
      "True\n",
      "True\n"
     ]
    }
   ],
   "source": [
    "print(True == 1)   # True is equivalent to 1.\n",
    "print(False == 0)  # False is equivalent to 0."
   ]
  },
  {
   "cell_type": "markdown",
   "metadata": {},
   "source": [
    "### Lists and Tuples"
   ]
  },
  {
   "cell_type": "code",
   "execution_count": 8,
   "metadata": {},
   "outputs": [
    {
     "name": "stdout",
     "output_type": "stream",
     "text": [
      "[1, 1.0, 1000.0, (2+3j), True]\n"
     ]
    }
   ],
   "source": [
    "## Lists are the most basic container and are denoted by brackets.\n",
    "## Lists can store any pythonic type, and elements of a list do not need\n",
    "## to be of the same type.\n",
    "\n",
    "example_list = [1, 1., 1e3, 2+3j, True]\n",
    "print(example_list)"
   ]
  },
  {
   "cell_type": "markdown",
   "metadata": {},
   "source": [
    "#### Important note: Python is a 0-indexed language.\n",
    "The first element of a list is the 0th position of the list! "
   ]
  },
  {
   "cell_type": "code",
   "execution_count": 9,
   "metadata": {},
   "outputs": [
    {
     "name": "stdout",
     "output_type": "stream",
     "text": [
      "1\n",
      "1000.0\n"
     ]
    }
   ],
   "source": [
    "## Use square brackets to index elements of a list.\n",
    "\n",
    "print(example_list[0])    # First element of the list\n",
    "print(example_list[2])    # Third element of the list"
   ]
  },
  {
   "cell_type": "code",
   "execution_count": null,
   "metadata": {},
   "outputs": [],
   "source": [
    "## Slicing lists uses the colon operator:\n",
    "print(example_list[1:3])    # Second-through-third elements (up-to-not-include)\n",
    "print(example_list[1:])     # Second element onwards.\n",
    "print(example_list[:2])     # Up-through-second element."
   ]
  },
  {
   "cell_type": "code",
   "execution_count": null,
   "metadata": {},
   "outputs": [],
   "source": [
    "## Slicing also for the following operations:\n",
    "print(example_list[-2:])    # Second-to-last element onwards\n",
    "print(example_list[:-2])    # Up to second-to-last element\n",
    "\n",
    "print(example_list[::2])    # Every other element\n",
    "print(example_list[::-1])   # Elements in reverse"
   ]
  },
  {
   "cell_type": "code",
   "execution_count": 10,
   "metadata": {},
   "outputs": [
    {
     "name": "stdout",
     "output_type": "stream",
     "text": [
      "[1.0, (2+3j)]\n"
     ]
    }
   ],
   "source": [
    "## Slicing operators can be combined:\n",
    "print(example_list[1:-1:2])    # Every other element, starting from the \n",
    "                               # second through the second-to-last."
   ]
  },
  {
   "cell_type": "markdown",
   "metadata": {},
   "source": [
    "#### Important note: Python is an object-oriented language\n",
    "Every variable in Python is an **instance** (or object) of some type (e.g. integer, list, string) and thus has **attributes.** The following are some useful attributes (i.e. self-contained functions) of lists. Note that all of these attributes modify the variable **in-place**."
   ]
  },
  {
   "cell_type": "code",
   "execution_count": null,
   "metadata": {},
   "outputs": [],
   "source": [
    "## Add new elements to the end of a list using append:\n",
    "example_list.append( 111 )\n",
    "print(example_list)"
   ]
  },
  {
   "cell_type": "code",
   "execution_count": null,
   "metadata": {},
   "outputs": [],
   "source": [
    "## Add new elements to a specific position in a list using insert:\n",
    "example_list.insert(0, 222)\n",
    "print(example_list)"
   ]
  },
  {
   "cell_type": "code",
   "execution_count": null,
   "metadata": {},
   "outputs": [],
   "source": [
    "## Remove an element from a specific position using pop. \n",
    "example_list.pop(3)\n",
    "print(example_list)"
   ]
  },
  {
   "cell_type": "markdown",
   "metadata": {},
   "source": [
    "#### Testing for elements in a list"
   ]
  },
  {
   "cell_type": "code",
   "execution_count": null,
   "metadata": {},
   "outputs": [],
   "source": [
    "## The contents of a list can also be tested with the \"in\" operator.\n",
    "print( 111 in example_list )\n",
    "print( 999 in example_list )"
   ]
  },
  {
   "cell_type": "markdown",
   "metadata": {},
   "source": [
    "#### Important note: Tuples are immutable lists\n",
    "Tuples are denoted by parantheses. Tuples are virtually identical to lists except that they are **immutable.** In other words, tuples cannot be modified once they are created. "
   ]
  },
  {
   "cell_type": "code",
   "execution_count": null,
   "metadata": {
    "collapsed": true
   },
   "outputs": [],
   "source": [
    "## We define an example string and tuple.\n",
    "example_list = [1, 2, 3, 4]\n",
    "example_tuple = (1, 2, 3, 4)"
   ]
  },
  {
   "cell_type": "code",
   "execution_count": null,
   "metadata": {},
   "outputs": [],
   "source": [
    "## Change the second element of the list.\n",
    "example_list[1] = 9\n",
    "print(example_list)"
   ]
  },
  {
   "cell_type": "code",
   "execution_count": null,
   "metadata": {},
   "outputs": [],
   "source": [
    "## Change the second element of the tuple.\n",
    "example_tuple[1] = 9\n",
    "print(example_tuple)"
   ]
  },
  {
   "cell_type": "markdown",
   "metadata": {},
   "source": [
    "### Text and Strings "
   ]
  },
  {
   "cell_type": "code",
   "execution_count": null,
   "metadata": {},
   "outputs": [],
   "source": [
    "## Strings are demarcated by single or double quotation marks.\n",
    "example_string1 = 'how exciting is this?'\n",
    "example_string2 = \"how exciting is this?\"\n",
    "print(example_string1)\n",
    "print(example_string1 == example_string2)"
   ]
  },
  {
   "cell_type": "code",
   "execution_count": null,
   "metadata": {},
   "outputs": [],
   "source": [
    "## Strings are essentially lists with characters.\n",
    "print(example_string1[4:])    # Return string from the 4th character onwards.\n",
    "print(example_string1[::-1])  # Return the reversed string.\n",
    "print(example_string1[::2])   # Return every other character of the string."
   ]
  },
  {
   "cell_type": "code",
   "execution_count": null,
   "metadata": {},
   "outputs": [],
   "source": [
    "## Strings also have their own attributes \n",
    "## These do not modify the string in-place.\n",
    "print( example_string1.capitalize() )       # Capitalize first letter of string.\n",
    "print( example_string1.upper() )            # Uppercase all characters.\n",
    "print( example_string1.count('i') )         # Count 'i's in string.\n",
    "print( example_string1.replace('i','o'))    # Replace 'i's in string with 'o's."
   ]
  },
  {
   "cell_type": "code",
   "execution_count": null,
   "metadata": {},
   "outputs": [],
   "source": [
    "## Extended paragraphs (i.e. docstrings) can be written with triple:\n",
    "example_docstring = '''You can use the triple quotes to write long paragraphs\n",
    "of text that will maintain all of the breaklines. This can\n",
    "be very helpful when writing docstrings of functions'''\n",
    "\n",
    "print(example_docstring)"
   ]
  },
  {
   "cell_type": "code",
   "execution_count": null,
   "metadata": {},
   "outputs": [],
   "source": [
    "## One very useful feature is string substition, where we can\n",
    "## insert variables/text into strings.\n",
    "\n",
    "print('Hi, my name is %s!' %'Sam')              # Substitute a string.\n",
    "print('Pi to the 2nd digit is %0.2f.' %3.14159) # Substitute and round a float."
   ]
  },
  {
   "cell_type": "code",
   "execution_count": null,
   "metadata": {},
   "outputs": [],
   "source": [
    "## Strings are easily combined, through the addition operator or the join attribute.\n",
    "print('This is the first half.' + ' ' + 'This is the second half.')\n",
    "print(' '.join(['This is the first half.', 'This is the second half.']))"
   ]
  },
  {
   "cell_type": "markdown",
   "metadata": {},
   "source": [
    "### Dictionaries"
   ]
  },
  {
   "cell_type": "code",
   "execution_count": null,
   "metadata": {},
   "outputs": [],
   "source": [
    "## Dictionaries are simple lookup tables. They are denoted by curly brackets.\n",
    "example_dict = {'a':1, 'b':2, 'c':3}\n",
    "print(example_dict)\n",
    "print(example_dict['c'])"
   ]
  },
  {
   "cell_type": "code",
   "execution_count": null,
   "metadata": {},
   "outputs": [],
   "source": [
    "## Dictionaries can also be generated using the dict() command.\n",
    "## Notice the slightly different syntax.\n",
    "example_dict = dict(a=1, b=2, c=3)\n",
    "print(example_dict)\n",
    "print(example_dict['c'])"
   ]
  },
  {
   "cell_type": "code",
   "execution_count": null,
   "metadata": {},
   "outputs": [],
   "source": [
    "## Dictionaries are comprised of \"keys\" and \"values\".\n",
    "print(example_dict.keys())\n",
    "print(example_dict.values())"
   ]
  },
  {
   "cell_type": "code",
   "execution_count": null,
   "metadata": {},
   "outputs": [],
   "source": [
    "## Once initialized, new key/value pairs can be stored in a dictionary.\n",
    "example_dict['d'] = 4\n",
    "print(example_dict)"
   ]
  },
  {
   "cell_type": "markdown",
   "metadata": {},
   "source": [
    "## Control Flow in Python"
   ]
  },
  {
   "cell_type": "markdown",
   "metadata": {},
   "source": [
    "### For and While Loops"
   ]
  },
  {
   "cell_type": "code",
   "execution_count": null,
   "metadata": {},
   "outputs": [],
   "source": [
    "## For loops have a very simple syntax in python.\n",
    "for x in range(5):\n",
    "    print(x)"
   ]
  },
  {
   "cell_type": "code",
   "execution_count": null,
   "metadata": {},
   "outputs": [],
   "source": [
    "## Elements of a list can be directly iterated over in python.\n",
    "example_list = [4, 1, 5, 2, 7, 1, 2, 3]\n",
    "for x in example_list:\n",
    "    print(x)"
   ]
  },
  {
   "cell_type": "code",
   "execution_count": null,
   "metadata": {},
   "outputs": [],
   "source": [
    "## For loops can be paired with the enumerate command for indexing.\n",
    "for i, x in enumerate(example_list):\n",
    "    print(i,x)"
   ]
  },
  {
   "cell_type": "code",
   "execution_count": null,
   "metadata": {},
   "outputs": [],
   "source": [
    "## While loops are similarly simple.\n",
    "i = 0\n",
    "while i < 5:\n",
    "    print(i)\n",
    "    i += 1  "
   ]
  },
  {
   "cell_type": "markdown",
   "metadata": {},
   "source": [
    "### Conditional logic with if, elif, else"
   ]
  },
  {
   "cell_type": "code",
   "execution_count": null,
   "metadata": {},
   "outputs": [],
   "source": [
    "## In python, the three conditional statements are if, elif, and else.\n",
    "## Here we will construct a simple for-loop testing parity.\n",
    "example_list = [4, 7, 9.4]\n",
    "\n",
    "for x in example_list:\n",
    "    \n",
    "    if x % 2 == 0: \n",
    "        print('%s is even.' %x)\n",
    "        \n",
    "    elif x % 2 == 1:\n",
    "        print('%s is odd.' %x)\n",
    "        \n",
    "    else: \n",
    "        print('%s is not an integer.' %x)"
   ]
  },
  {
   "cell_type": "markdown",
   "metadata": {},
   "source": [
    "### Contiue and Break statements\n",
    "Conditional logic statements can be paired with the \"continue\" and \"break\" \n",
    "statments for additional control flow in For and While loops. The \"continue\"\n",
    "statement skips the current iteration of a For/While loop, whereas the\n",
    "\"break\" statement terminates the For/While loop."
   ]
  },
  {
   "cell_type": "code",
   "execution_count": null,
   "metadata": {},
   "outputs": [],
   "source": [
    "## An example of the continue statement.\n",
    "## The for loop skips at the odd numbers.\n",
    "example_list = [4, 7, 9.4]\n",
    "\n",
    "for x in example_list:\n",
    "    \n",
    "    if x % 2 == 0: \n",
    "        print('%s is even.' %x)\n",
    "        \n",
    "    elif x % 2 == 1:\n",
    "        continue\n",
    "        print('%s is odd.' %x)\n",
    "        \n",
    "    else: \n",
    "        print('%s is not an integer.' %x)"
   ]
  },
  {
   "cell_type": "code",
   "execution_count": null,
   "metadata": {},
   "outputs": [],
   "source": [
    "## An example of the break statement.\n",
    "## The for loop terminates at the first odd number.\n",
    "example_list = [4, 7, 9.4]\n",
    "\n",
    "for x in example_list:\n",
    "    \n",
    "    if x % 2 == 0: \n",
    "        print('%s is even.' %x)\n",
    "        \n",
    "    elif x % 2 == 1:\n",
    "        break\n",
    "        print('%s is odd.' %x)\n",
    "        \n",
    "    else: \n",
    "        print('%s is not an integer.' %x)"
   ]
  },
  {
   "cell_type": "markdown",
   "metadata": {},
   "source": [
    "### List comprehensions\n",
    "Python also allows for embedding For loops within lists as a nifty way of constructing/modifying lists. List comprehensions are very powerful (though sometimes memory intensive) and can be constructed with a few different syntaxes."
   ]
  },
  {
   "cell_type": "code",
   "execution_count": null,
   "metadata": {},
   "outputs": [],
   "source": [
    "## Inclusive/exclusive list comprehension: here we exclude variables from\n",
    "## the list if they do not meet a certain criterion.\n",
    "[x for x in range(10) if x > 5]"
   ]
  },
  {
   "cell_type": "code",
   "execution_count": 14,
   "metadata": {},
   "outputs": [
    {
     "data": {
      "text/plain": [
       "['even', 'odd', 'even', 'odd', 'even']"
      ]
     },
     "execution_count": 14,
     "metadata": {},
     "output_type": "execute_result"
    }
   ],
   "source": [
    "## Conditional list comprehension: here we transform variables from the \n",
    "## list based on whether they meet a certain criterion.\n",
    "['odd' if x % 2 == 1 else 'even' for x in range(5)]"
   ]
  },
  {
   "cell_type": "code",
   "execution_count": 15,
   "metadata": {},
   "outputs": [
    {
     "data": {
      "text/plain": [
       "['even', 'odd', 'non-integer']"
      ]
     },
     "execution_count": 15,
     "metadata": {},
     "output_type": "execute_result"
    }
   ],
   "source": [
    "## Note that else statements can be chained in list comprehensions.\n",
    "example_list = [4, 7, 9.4]\n",
    "\n",
    "['odd' if x % 2 == 1 \n",
    " else 'even' if x % 2 == 0 \n",
    " else 'non-integer' \n",
    " for x in example_list]"
   ]
  },
  {
   "cell_type": "markdown",
   "metadata": {},
   "source": [
    "### Error handling with try/except logic.\n",
    "Python allows for intelligent error handling with the \"try\" and \"except\" logics. Code nested under a \"try\" command will be evaluated. If an error arises under a try block, the code in the except block will be evaluated instead. This is useful for handling exceptions and preventing scripts from breaking. Use with caution though if you cannot predict error corner cases!\n",
    "\n",
    "Here we will test try/except logic with a division-by-zero error. Note that I am specifying the error class, i.e. ZeroDivisionError. Python has a number of built-in error types, and it is better to specify the exact type of error you expect to ensure that only those types of errors are passed to the except block. Multiple excepts are permissible in try/except workflows."
   ]
  },
  {
   "cell_type": "code",
   "execution_count": null,
   "metadata": {},
   "outputs": [],
   "source": [
    "## An example divide by zero error.\n",
    "example_list = [2, 10, 0]\n",
    "\n",
    "for x in example_list:\n",
    "    print(20 / x)"
   ]
  },
  {
   "cell_type": "code",
   "execution_count": null,
   "metadata": {},
   "outputs": [],
   "source": [
    "## An example try/catch handling divide by zero errors.\n",
    "example_list = [2, 10, 0]\n",
    "\n",
    "for x in example_list:\n",
    "    try:\n",
    "        print(20 / x)\n",
    "    except ZeroDivisionError: \n",
    "        print('You cannot divide 0, silly!')"
   ]
  },
  {
   "cell_type": "markdown",
   "metadata": {},
   "source": [
    "## Defining Functions\n",
    "Creating custom functions in python is very easy using the def/return commands."
   ]
  },
  {
   "cell_type": "code",
   "execution_count": null,
   "metadata": {},
   "outputs": [],
   "source": [
    "## Here we will create a custom script for handling strings.\n",
    "def angry_string(string):\n",
    "    return(string.upper())\n",
    "\n",
    "example_string = 'what are you doing?'\n",
    "print(example_string)\n",
    "print(angry_string(example_string))"
   ]
  },
  {
   "cell_type": "code",
   "execution_count": null,
   "metadata": {},
   "outputs": [],
   "source": [
    "## We can also define default inputs for a command.\n",
    "def angry_string(string, add_exclamations=False):\n",
    "    string = string.upper()\n",
    "    if add_exclamations:\n",
    "        string += '!' * add_exclamations\n",
    "    return(string)\n",
    "\n",
    "print( angry_string('hi there', 8) )"
   ]
  },
  {
   "cell_type": "code",
   "execution_count": null,
   "metadata": {},
   "outputs": [],
   "source": [
    "## The lambda operator can also be used to define short functions.\n",
    "angry_string = lambda x: x.upper()\n",
    "angry_string('hi there')"
   ]
  },
  {
   "cell_type": "markdown",
   "metadata": {},
   "source": [
    "## Basic Commands in Python\n",
    "Don't worry too much about this section. Most of these commands will be replaced or supplemented by NumPy shortly."
   ]
  },
  {
   "cell_type": "code",
   "execution_count": null,
   "metadata": {},
   "outputs": [],
   "source": [
    "## The most important command is the range command. \n",
    "## This is identical to \"seq\" in R.\n",
    "var = range(0,5)    # Equivalent to [0,1,2,3,4]. Remember python is 0-indexed!\n",
    "var = range(5)      # Same as above.\n",
    "var = range(0,5,2)  # Every other integer up-to-5.\n",
    "print(var)"
   ]
  },
  {
   "cell_type": "code",
   "execution_count": null,
   "metadata": {},
   "outputs": [],
   "source": [
    "## There are commands to test  and convert between object classes.\n",
    "print(list(var))    # Range as list.\n",
    "print(tuple(var))   # Range as tuple.\n",
    "print(str(var))     # Range as string (converts to string literally)."
   ]
  },
  {
   "cell_type": "code",
   "execution_count": null,
   "metadata": {},
   "outputs": [],
   "source": [
    "## There are commands to modify lists.\n",
    "example_list = [4, 1, 5, 2, 7, 1, 2, 3]\n",
    "\n",
    "print(sorted(example_list))    # Sort list.\n",
    "print(set(example_list))       # Get unique elements of list. Returns set."
   ]
  },
  {
   "cell_type": "code",
   "execution_count": null,
   "metadata": {},
   "outputs": [],
   "source": [
    "## There are also commands to summarize lists.\n",
    "print(len(example_list))    # Count element in list.\n",
    "print(sum(example_list))    # Sum across list."
   ]
  },
  {
   "cell_type": "code",
   "execution_count": null,
   "metadata": {
    "collapsed": true
   },
   "outputs": [],
   "source": [
    "## The any/all commands are very useful for testing if any \n",
    "## conditionals are met in a list.\n",
    "example_list = [True if x > 2 else False for x in range(5)]\n",
    "print(example_list)\n",
    "print(any(example_list))\n",
    "print(all(example_list))"
   ]
  },
  {
   "cell_type": "markdown",
   "metadata": {},
   "source": [
    "# Section 2: Introduction to Numpy"
   ]
  },
  {
   "cell_type": "markdown",
   "metadata": {},
   "source": [
    "## Importing Modules\n",
    "If vanilla python seems rather lackluster, that's because it is. Fortunately, the scientific stack adds a broad and powerful array of python packages fill in the gaps. Once installed, packages in python are easily loaded for use."
   ]
  },
  {
   "cell_type": "code",
   "execution_count": null,
   "metadata": {
    "collapsed": true
   },
   "outputs": [],
   "source": [
    "import numpy\n",
    "print(numpy.__version__)"
   ]
  },
  {
   "cell_type": "code",
   "execution_count": 11,
   "metadata": {},
   "outputs": [
    {
     "name": "stdout",
     "output_type": "stream",
     "text": [
      "1.13.0\n"
     ]
    }
   ],
   "source": [
    "## Commands from packages are like attributes of objects. \n",
    "## For convenience, we will import packages using shorthand.\n",
    "import numpy as np\n",
    "print(np.__version__)"
   ]
  },
  {
   "cell_type": "markdown",
   "metadata": {},
   "source": [
    "## NumPy Arrays\n",
    "### Why arrays improve on lists\n",
    "Arrays are the most basic type of the NumPy package and are vectors, similar to pythonic lists. In contrast to lists, however, arrays have many more attributes and can be modified in substantially more ways."
   ]
  },
  {
   "cell_type": "code",
   "execution_count": null,
   "metadata": {
    "collapsed": true
   },
   "outputs": [],
   "source": [
    "## Comparing lists and arrays: \n",
    "example_list = list(range(5))\n",
    "example_array = np.arange(5)\n",
    "\n",
    "print(example_list)\n",
    "print(example_array)"
   ]
  },
  {
   "cell_type": "code",
   "execution_count": null,
   "metadata": {
    "collapsed": true
   },
   "outputs": [],
   "source": [
    "## Pythonic lists cannot be directly modified elementwise.\n",
    "print(example_list * 5)"
   ]
  },
  {
   "cell_type": "code",
   "execution_count": null,
   "metadata": {
    "collapsed": true
   },
   "outputs": [],
   "source": [
    "## Pythonic lists cannot be directly modified elementwise.\n",
    "print(example_list * example_list)"
   ]
  },
  {
   "cell_type": "code",
   "execution_count": null,
   "metadata": {
    "collapsed": true
   },
   "outputs": [],
   "source": [
    "## NumPy arrays, however, can be directly modified.\n",
    "print(example_array * 5)\n",
    "print(example_array * example_array)"
   ]
  },
  {
   "cell_type": "code",
   "execution_count": null,
   "metadata": {
    "collapsed": true
   },
   "outputs": [],
   "source": [
    "## Every array has an implicitly stored object type.\n",
    "## These can modified quickly and easily.\n",
    "print(example_array, example_array.dtype)\n",
    "example_array = example_array.astype(float)\n",
    "print(example_array, example_array.dtype)"
   ]
  },
  {
   "cell_type": "code",
   "execution_count": null,
   "metadata": {
    "collapsed": true
   },
   "outputs": [],
   "source": [
    "## Importantly, arrays store other important metadata.\n",
    "print(example_array.shape)    # Print shape of array.\n",
    "print(example_array.nbytes)   # Print bytes of array."
   ]
  },
  {
   "cell_type": "code",
   "execution_count": null,
   "metadata": {
    "collapsed": true
   },
   "outputs": [],
   "source": [
    "## Arrays now have a number of other built-in attributes \n",
    "## not available for lists.\n",
    "print(example_array.min())     # Get max of array.\n",
    "print(example_array.max())     # Get min of array.\n",
    "print(example_array.mean())    # Get mean of array.\n",
    "print(example_array.sum())     # Get sum of array."
   ]
  },
  {
   "cell_type": "markdown",
   "metadata": {},
   "source": [
    "### Generating NumPy Arrays\n",
    "There are a multitude of methods and functions to generate NumPy arrays."
   ]
  },
  {
   "cell_type": "code",
   "execution_count": null,
   "metadata": {
    "collapsed": true
   },
   "outputs": [],
   "source": [
    "## Making an array from a list using the array command.\n",
    "example_list = [4, 7, 9.4]\n",
    "example_array = np.array(example_list)\n",
    "\n",
    "print(example_list)\n",
    "print(example_array)    # Note that the float-type is applied across the array."
   ]
  },
  {
   "cell_type": "code",
   "execution_count": null,
   "metadata": {
    "collapsed": true
   },
   "outputs": [],
   "source": [
    "## NumPy has recreated all of the standard R/Matlab commands for \n",
    "## generating arrays.\n",
    "print(np.zeros(5))            # Length-5 array of zeros.\n",
    "print(np.ones(5))             # Length-5 array of ones.\n",
    "print(np.arange(5))           # Length-5 array of sequential integers\n",
    "print(np.linspace(0,10,5))    # Length-5 evenly-spaced array from 0 to 10."
   ]
  },
  {
   "cell_type": "markdown",
   "metadata": {},
   "source": [
    "## NumPy Matrices\n",
    "### Why matrices improve on lists\n",
    "It is possible to represent matrices in pythonic lists, though it is inefficient. Similar to the benefits of arrays, NumPy matrices dramatically improve upon the numerical capabilities of core python."
   ]
  },
  {
   "cell_type": "code",
   "execution_count": null,
   "metadata": {
    "collapsed": true
   },
   "outputs": [],
   "source": [
    "## The following is a basic matrix represented in core python. \n",
    "## It is a list of lists.\n",
    "nested_lists = [[1,2,3,4],\n",
    "                [4,5,6,7]]\n",
    "print(nested_lists)\n",
    "print(nested_lists[1][2])   # To extract the 2nd row, 3rd column, two brackets are necessary."
   ]
  },
  {
   "cell_type": "code",
   "execution_count": null,
   "metadata": {
    "collapsed": true
   },
   "outputs": [],
   "source": [
    "## NumPy matrices make this much easier!\n",
    "example_matrix = np.array(nested_lists)\n",
    "print(example_matrix)\n",
    "print(example_matrix[1,2])    # Much more efficient indexing!"
   ]
  },
  {
   "cell_type": "code",
   "execution_count": null,
   "metadata": {
    "collapsed": true
   },
   "outputs": [],
   "source": [
    "## Indexing of NumPy matrices (and arrays for that matter)\n",
    "## obey all of the slicing conventions of lists. Commas are\n",
    "## used to demarcate which axis a slice operation is targeting.\n",
    "print(example_matrix[1,2])    # Second row, third column.\n",
    "print(example_matrix[0,:])    # All the first row.\n",
    "print(example_matrix[:,-1])   # All of the final column."
   ]
  },
  {
   "cell_type": "code",
   "execution_count": null,
   "metadata": {
    "collapsed": true
   },
   "outputs": [],
   "source": [
    "## NumPy matrices have all the same attributes of NumPy arrays,\n",
    "## but now functions can be applied to specific rows or columns\n",
    "## in addition to the entire matrix.\n",
    "print( example_matrix.sum() )          # Sum across matrix.\n",
    "print( example_matrix.sum(axis=0) )    # Sum across columns.\n",
    "print( example_matrix.sum(axis=1) )    # Sum across rows."
   ]
  },
  {
   "cell_type": "code",
   "execution_count": null,
   "metadata": {
    "collapsed": true
   },
   "outputs": [],
   "source": [
    "## Note that arrays and matrices, despite different sizes,\n",
    "## are the actually same NumPy class under the hood.\n",
    "print(type(example_array))\n",
    "print(type(example_matrix))"
   ]
  },
  {
   "cell_type": "markdown",
   "metadata": {},
   "source": [
    "### Generating NumPy Matrices"
   ]
  },
  {
   "cell_type": "code",
   "execution_count": null,
   "metadata": {
    "collapsed": true
   },
   "outputs": [],
   "source": [
    "## As demonstrated above, a nested list-of-lists can be made\n",
    "## into a NumPy matrix.\n",
    "example_list = [[0, 1, 1],[2, 3, 5], [8, 13, 21]]\n",
    "example_matrix = np.array(example_list)\n",
    "\n",
    "print(example_list)\n",
    "print(example_matrix)"
   ]
  },
  {
   "cell_type": "code",
   "execution_count": null,
   "metadata": {
    "collapsed": true
   },
   "outputs": [],
   "source": [
    "## Matrices can also be formed by joining arrays using hstack, vstack, or concatenate.\n",
    "## hstack joins column vectors, vstack joins row vectors, and concatenate\n",
    "## allows the user to specify which axis to merge across.\n",
    "\n",
    "example_array = np.arange(4).reshape(4,1)\n",
    "print( np.hstack( [example_array,example_array] ) )    # Stack two arrays horizontally.\n",
    "\n",
    "example_array = example_array.reshape(1,4)\n",
    "print( np.vstack( [example_array,example_array] ) )    # Stack two arrays vertically.\n",
    "\n",
    "print( np.concatenate( [example_array, example_array], axis=0 ))"
   ]
  },
  {
   "cell_type": "code",
   "execution_count": null,
   "metadata": {
    "collapsed": true
   },
   "outputs": [],
   "source": [
    "## NumPy has recreated all of the standard R/Matlab commands for \n",
    "## generating matrices.\n",
    "print( np.zeros( [3,3] ) )                 # 3x3 matrix of zeros.\n",
    "print( np.ones( [3,3] ) )                  # 3x3 matrix of ones.\n",
    "print( np.arange(9).reshape(3,3) )         # 3x3 matrix of sequential integers.\n",
    "print( np.linspace(0,8,9).reshape(3,3) )   # 3x3 matrix evenly-spaced array from 0 to 8. \n",
    "print( np.identity(3) )                    # 3x3 identity matrix."
   ]
  },
  {
   "cell_type": "code",
   "execution_count": null,
   "metadata": {
    "collapsed": true
   },
   "outputs": [],
   "source": [
    "## Importantly, reshape can be used to change the shape of \n",
    "## NumPy arrays. The order flag can also change how they are\n",
    "## organized (row-ordered vs. column-ordered).\n",
    "example_array = np.arange(8)\n",
    "print(example_array)\n",
    "print(example_array.reshape(2,4,order='C'))    # Column-organized (default)\n",
    "print(example_array.reshape(2,4,order='F'))    # Row-organized"
   ]
  },
  {
   "cell_type": "code",
   "execution_count": null,
   "metadata": {
    "collapsed": true
   },
   "outputs": [],
   "source": [
    "## The flatten command can be used to flatten matrices to arrays.\n",
    "example_matrix = np.identity(3)\n",
    "print(example_matrix)\n",
    "print(example_matrix.flatten())"
   ]
  },
  {
   "cell_type": "markdown",
   "metadata": {},
   "source": [
    "## Core NumPy Functions\n",
    "NumPy also introduces a number of useful functions designed to operate efficiently over NumPy arrays. The following is a non-exhaustive overview of some important NumPy functions."
   ]
  },
  {
   "cell_type": "markdown",
   "metadata": {},
   "source": [
    "### Rounding Functions"
   ]
  },
  {
   "cell_type": "code",
   "execution_count": null,
   "metadata": {
    "collapsed": true
   },
   "outputs": [],
   "source": [
    "## NumPy has the same rounding functions as R.\n",
    "example_array = np.linspace(0,1,4)\n",
    "print(example_array)\n",
    "print( np.round(example_array, 2) )    # Round to the 2nd decimal.\n",
    "print( np.floor(example_array) )       # Round down.\n",
    "print( np.ceil(example_array) )        # Round up."
   ]
  },
  {
   "cell_type": "markdown",
   "metadata": {},
   "source": [
    "### Mathematical functions"
   ]
  },
  {
   "cell_type": "code",
   "execution_count": 12,
   "metadata": {
    "collapsed": true
   },
   "outputs": [],
   "source": [
    "## NumPy includes a variety of mathematical functions.\n",
    "## All of these can be applied across an entire matrix \n",
    "## or across arrays.\n",
    "\n",
    "np.sum;       # Sum of an array or matrix.\n",
    "np.cumsum;    # Cumulative sum over an array.\n",
    "np.prod;      # Product of elements of an array.\n",
    "np.divide;    # Element-wise division of two arrays.\n",
    "np.diff;      # Pairwise difference of elements of an array.\n",
    "np.exp;       # Exponential transform.\n",
    "np.log;       # Natural logarithm.\n",
    "np.log10;     # Base-10 logarithm."
   ]
  },
  {
   "cell_type": "markdown",
   "metadata": {},
   "source": [
    "### Summary Functions"
   ]
  },
  {
   "cell_type": "code",
   "execution_count": null,
   "metadata": {
    "collapsed": true
   },
   "outputs": [],
   "source": [
    "## NumPy includes many functions to summarize an array.\n",
    "## With the exception of correlate, all of these can be\n",
    "## applied across an entire matrix or across arrays.\n",
    "\n",
    "np.min;           # Return the smallest element.\n",
    "np.max;           # Return the largest element.\n",
    "np.argmin;        # Return the index of the smallest element.\n",
    "np.argmax;        # Return the index of the largest element.\n",
    "np.mean;          # Compute the mean of an array.\n",
    "np.std;           # Compute the standard deviation of an array.\n",
    "np.var;           # Compute the variance (sd^2) of an array.\n",
    "np.percentile;    # Compute the xth percentile of an array.\n",
    "np.corrcoef;      # Compute the row-/col-wise correlation of a matrix."
   ]
  },
  {
   "cell_type": "markdown",
   "metadata": {},
   "source": [
    "### Set Functions"
   ]
  },
  {
   "cell_type": "code",
   "execution_count": null,
   "metadata": {
    "collapsed": true
   },
   "outputs": [],
   "source": [
    "## NumPy includes functions for identifying unique elements\n",
    "## within or between arrays.\n",
    "arr1 = np.array([41, 16, 34, 0, 2, 20, 19, 14, 22, 15, 18, 9, 35, 41])\n",
    "arr2 = np.array([42, 22, 40, 7, 33, 0, 12, 19, 44, 10, 31, 11, 11, 49])"
   ]
  },
  {
   "cell_type": "code",
   "execution_count": null,
   "metadata": {
    "collapsed": true
   },
   "outputs": [],
   "source": [
    "# Sort elements (ascending order).\n",
    "np.sort(arr1)"
   ]
  },
  {
   "cell_type": "code",
   "execution_count": null,
   "metadata": {
    "collapsed": true
   },
   "outputs": [],
   "source": [
    "# Return unique elements.\n",
    "np.unique(arr1)"
   ]
  },
  {
   "cell_type": "code",
   "execution_count": null,
   "metadata": {
    "collapsed": true
   },
   "outputs": [],
   "source": [
    "# Return unique elements, count number of appearances.\n",
    "np.unique(arr1, return_counts=True)"
   ]
  },
  {
   "cell_type": "code",
   "execution_count": null,
   "metadata": {
    "collapsed": true
   },
   "outputs": [],
   "source": [
    "# Find the elements of array-1 in array-2.\n",
    "np.in1d(arr1, arr2)"
   ]
  },
  {
   "cell_type": "code",
   "execution_count": null,
   "metadata": {
    "collapsed": true
   },
   "outputs": [],
   "source": [
    "# Return all unique elements of arrays 1 & 2.\n",
    "np.union1d(arr1, arr2)"
   ]
  },
  {
   "cell_type": "code",
   "execution_count": null,
   "metadata": {
    "collapsed": true
   },
   "outputs": [],
   "source": [
    "# Return all elements belonging to both arrays 1 & 2.\n",
    "np.intersect1d(arr1, arr2)"
   ]
  },
  {
   "cell_type": "markdown",
   "metadata": {},
   "source": [
    "### Shortcut Functions"
   ]
  },
  {
   "cell_type": "code",
   "execution_count": null,
   "metadata": {
    "collapsed": true
   },
   "outputs": [],
   "source": [
    "## NumPy includes a number of very helpful functions that act to replace list \n",
    "## comprehensions (np.where) and for loops (np.apply_across_axis, np.apply_over_axes). \n",
    "## These are often more efficient than writing out a full For loop.\n",
    "## We will emphasize these functions with a simple example of standard-scoring (z-scoring)\n",
    "## a matrix.\n",
    "\n",
    "## Define the standard score (z-score) function.\n",
    "def zscore(arr): \n",
    "    '''Standard score'''\n",
    "    return (arr - arr.mean()) / arr.std()\n",
    "\n",
    "## Define a simple matrix.\n",
    "mat = np.arange(12).reshape(2,6)\n",
    "print(mat)\n",
    "\n",
    "## Use np.appy_across_axis to apply our function across each row.\n",
    "zmat = np.apply_along_axis(zscore, axis=1, arr=mat)\n",
    "print(zmat.round(2))\n",
    "\n",
    "## Use the np.where command to set all negative numbers to 0, else 1.\n",
    "## np.where is identical to the which() command in R. \n",
    "amat = np.where(zmat < 0, 0, 1)\n",
    "print(amat)\n",
    "\n",
    "## If no transforms are specified, np.where returns the indices of the\n",
    "## array where the conditional is met.\n",
    "print( np.where(zmat < 0 ) )"
   ]
  },
  {
   "cell_type": "markdown",
   "metadata": {},
   "source": [
    "### Linear Algebra Functions"
   ]
  },
  {
   "cell_type": "code",
   "execution_count": null,
   "metadata": {
    "collapsed": true
   },
   "outputs": [],
   "source": [
    "## NumPy includes an entire submodule dedicated to efficient linear \n",
    "## algebra functions (though it should be noted that SciPy has\n",
    "## reimplemented them for maximal efficiency). See np.linalg for \n",
    "## a full list of commands.\n",
    "mat = np.arange(16).reshape(4,4)\n",
    "\n",
    "print(mat)\n",
    "print(mat.T)           # Transpose the matrix\n",
    "print(np.diag(mat))    # Return diagonal of matrix\n",
    "print(np.triu(mat))    # Return upper triangular matrix\n",
    "print(mat.dot(mat))    # Matrix multiply itself."
   ]
  },
  {
   "cell_type": "code",
   "execution_count": null,
   "metadata": {
    "collapsed": true
   },
   "outputs": [],
   "source": [
    "## Linear algebra operations include:\n",
    "np.linalg.norm;        # Vector or matrix norm\n",
    "np.linalg.inv;         # Inverse of a square matrix\n",
    "np.linalg.det;         # Determinant of a square matrix\n",
    "np.linalg.eig;         # Eigenvalues and vectors of a square matrix\n",
    "np.linalg.cholesky;    # Cholesky decomposition of a matrix\n",
    "np.linalg.svd;         # Singular value decomposition of a matrix\n",
    "np.linalg.lstsq;       # Solve linear least-squares problem"
   ]
  },
  {
   "cell_type": "markdown",
   "metadata": {},
   "source": [
    "### Generating Random Data"
   ]
  },
  {
   "cell_type": "code",
   "execution_count": null,
   "metadata": {
    "collapsed": true
   },
   "outputs": [],
   "source": [
    "## NumPy also includes many functions for generating random data. \n",
    "## For a full list of functions, tab-complete on np.random.\n",
    "\n",
    "print( np.random.randint(0,10,10) )    # Generate ten random integers between 0-9.\n",
    "print( np.random.normal(0,1,5) )       # Generate five random samples of a normal distribution with mu=0,sd=1.\n",
    "print( np.random.binomial(1,0.5,10))   # Generate 10 random coin flips.\n",
    "\n",
    "print( np.random.choice(np.arange(10), 5, replace=False) ) # Choose five numbers from 0-9 without replacement."
   ]
  }
 ],
 "metadata": {
  "kernelspec": {
   "display_name": "Python 3",
   "language": "python",
   "name": "python3"
  },
  "language_info": {
   "codemirror_mode": {
    "name": "ipython",
    "version": 3
   },
   "file_extension": ".py",
   "mimetype": "text/x-python",
   "name": "python",
   "nbconvert_exporter": "python",
   "pygments_lexer": "ipython3",
   "version": "3.6.1"
  },
  "toc": {
   "colors": {
    "hover_highlight": "#DAA520",
    "navigate_num": "#000000",
    "navigate_text": "#333333",
    "running_highlight": "#FF0000",
    "selected_highlight": "#FFD700",
    "sidebar_border": "#EEEEEE",
    "wrapper_background": "#FFFFFF"
   },
   "moveMenuLeft": true,
   "nav_menu": {
    "height": "512px",
    "width": "252px"
   },
   "navigate_menu": true,
   "number_sections": false,
   "sideBar": true,
   "threshold": 4,
   "toc_cell": false,
   "toc_section_display": "block",
   "toc_window_display": false,
   "widenNotebook": false
  }
 },
 "nbformat": 4,
 "nbformat_minor": 2
}
