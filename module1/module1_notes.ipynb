{
 "cells": [
  {
   "cell_type": "markdown",
   "metadata": {},
   "source": [
    "# Section 1: Introduction to Jupyter-Notebooks"
   ]
  },
  {
   "cell_type": "markdown",
   "metadata": {},
   "source": [
    "# Section 2: Introduction to Python"
   ]
  },
  {
   "cell_type": "markdown",
   "metadata": {},
   "source": [
    "## Printing and Getting Help\n",
    "Use the **print** command to print variables."
   ]
  },
  {
   "cell_type": "code",
   "execution_count": null,
   "metadata": {},
   "outputs": [],
   "source": [
    "print('Hello, World!')"
   ]
  },
  {
   "cell_type": "markdown",
   "metadata": {},
   "source": [
    "With Jupyter notebooks, calling the variable itself acts as a print statement."
   ]
  },
  {
   "cell_type": "code",
   "execution_count": null,
   "metadata": {},
   "outputs": [],
   "source": [
    "'Hello, World!'"
   ]
  },
  {
   "cell_type": "markdown",
   "metadata": {},
   "source": [
    "Getting help is easy in Notebooks: append a '?' to the end of a function/variable."
   ]
  },
  {
   "cell_type": "code",
   "execution_count": null,
   "metadata": {
    "collapsed": true
   },
   "outputs": [],
   "source": [
    "print?"
   ]
  },
  {
   "cell_type": "markdown",
   "metadata": {},
   "source": [
    "## Basic Data Types in Python\n",
    "\n",
    "**NOTE:** Python is an object-oriented language. Every variable in Python is an **instance** (or object) of some type (e.g. integer, list, string) and thus has **attributes.** The following are some useful attributes (i.e. self-contained functions) of lists. Note that all of these attributes modify the variable **in-place**."
   ]
  },
  {
   "cell_type": "markdown",
   "metadata": {},
   "source": [
    "### Integers, Floats, and Mathematic Operations\n",
    "Integers are numbers without a decimal point."
   ]
  },
  {
   "cell_type": "code",
   "execution_count": null,
   "metadata": {},
   "outputs": [],
   "source": [
    "print(1, type(1))"
   ]
  },
  {
   "cell_type": "markdown",
   "metadata": {},
   "source": [
    "Floats are numbers with a decimal point."
   ]
  },
  {
   "cell_type": "code",
   "execution_count": null,
   "metadata": {},
   "outputs": [],
   "source": [
    "print(1.3, type(1.3))"
   ]
  },
  {
   "cell_type": "markdown",
   "metadata": {},
   "source": [
    "Adding a decimal point will convert an integer to a float."
   ]
  },
  {
   "cell_type": "code",
   "execution_count": null,
   "metadata": {},
   "outputs": [],
   "source": [
    "print(1., type(1.0))"
   ]
  },
  {
   "cell_type": "markdown",
   "metadata": {},
   "source": [
    "These are the basic operators in python:"
   ]
  },
  {
   "cell_type": "code",
   "execution_count": null,
   "metadata": {},
   "outputs": [],
   "source": [
    "print(4 + 2)   # Addition\n",
    "print(4 * 2)   # Multiplication\n",
    "print(4 / 2)   # Division\n",
    "print(4 % 2)   # Remainder (modulo)\n",
    "print(4 ** 2)  # Exponent"
   ]
  },
  {
   "cell_type": "markdown",
   "metadata": {},
   "source": [
    "Floats dominate integers in operations:"
   ]
  },
  {
   "cell_type": "code",
   "execution_count": null,
   "metadata": {},
   "outputs": [],
   "source": [
    "print(4 + 2.)\n",
    "print(4 / 2.)\n",
    "print(4 ** 2.)\n",
    "print(4 // 2)  # Except for integer division!"
   ]
  },
  {
   "cell_type": "markdown",
   "metadata": {},
   "source": [
    "Python also supports scientific notation and complex numbers:"
   ]
  },
  {
   "cell_type": "code",
   "execution_count": null,
   "metadata": {},
   "outputs": [],
   "source": [
    "print(1e3)\n",
    "print(2+3j)"
   ]
  },
  {
   "cell_type": "markdown",
   "metadata": {},
   "source": [
    "In python, variable assignment is denoted with the equal sign (=). "
   ]
  },
  {
   "cell_type": "code",
   "execution_count": null,
   "metadata": {
    "collapsed": true
   },
   "outputs": [],
   "source": [
    "x = 1."
   ]
  },
  {
   "cell_type": "markdown",
   "metadata": {},
   "source": [
    "The numeric classes are special in that they allow in-place assignment for convenience. This "
   ]
  },
  {
   "cell_type": "code",
   "execution_count": null,
   "metadata": {},
   "outputs": [],
   "source": [
    "## In-place addition\n",
    "x += 1.\n",
    "print(x)\n",
    "\n",
    "## In-place multiplcation.\n",
    "x *= 2.\n",
    "print(x)\n",
    "\n",
    "## In-place exponentiation.\n",
    "x **= 2.\n",
    "print(x)"
   ]
  },
  {
   "cell_type": "markdown",
   "metadata": {},
   "source": [
    "### Text and Strings "
   ]
  },
  {
   "cell_type": "markdown",
   "metadata": {},
   "source": [
    "Strings are demarcated by single or double quotation marks."
   ]
  },
  {
   "cell_type": "code",
   "execution_count": null,
   "metadata": {},
   "outputs": [],
   "source": [
    "string = 'a run-of-the-mill string'\n",
    "string"
   ]
  },
  {
   "cell_type": "markdown",
   "metadata": {},
   "source": [
    "Paragraphs (e.g. docstrings) can be written with triple quotes:"
   ]
  },
  {
   "cell_type": "code",
   "execution_count": null,
   "metadata": {},
   "outputs": [],
   "source": [
    "paragraph = '''You can use the triple quotes to write paragraphs\n",
    "of text. Note that any line-break is maintained. Triple quotes are\n",
    "used to define function docstrings.'''\n",
    "\n",
    "paragraph"
   ]
  },
  {
   "cell_type": "markdown",
   "metadata": {},
   "source": [
    "One very useful feature is string substition, where text or numbers can be inserted into a string. String substitution is denoted by the by the percent operator. Different substitutions types exist.  "
   ]
  },
  {
   "cell_type": "code",
   "execution_count": null,
   "metadata": {},
   "outputs": [],
   "source": [
    "# %s: Insert as string (no modification).\n",
    "print('Hi, my name is %s!' %'Sam')   \n",
    "\n",
    "# %0._f: Insert a number rounded to the _th digit.\n",
    "print('Pi to the 2nd digit is %0.2f.' %3.14159) \n",
    "\n",
    "# %0._d: Insert a number prepended with _ zeros.\n",
    "print('Prepend two zeros: %0.3d' %1)"
   ]
  },
  {
   "cell_type": "markdown",
   "metadata": {},
   "source": [
    "The string object has many associated functions that can be used to modify the string."
   ]
  },
  {
   "cell_type": "code",
   "execution_count": null,
   "metadata": {},
   "outputs": [],
   "source": [
    "print( 'Original:      %s' %string)\n",
    "print( 'Capitalize:    %s' %string.capitalize() )\n",
    "print( 'Uppercase:     %s' %string.upper() )\n",
    "print( 'Count \"i\"s:    %s' %string.count('i') ) \n",
    "print( 'Replace (i,o): %s' %string.replace('i','o'))"
   ]
  },
  {
   "cell_type": "markdown",
   "metadata": {},
   "source": [
    "Strings are easily combined, through with the \n",
    "addition operator or the join attribute."
   ]
  },
  {
   "cell_type": "code",
   "execution_count": null,
   "metadata": {},
   "outputs": [],
   "source": [
    "print('This is the first half.' + ' ' + 'This is the second half.')\n",
    "print(' '.join(['This is the first half.', 'This is the second half.']))"
   ]
  },
  {
   "cell_type": "markdown",
   "metadata": {},
   "source": [
    "### Booleans\n",
    "The Boolean objects in Python are the **True** and **False** objects."
   ]
  },
  {
   "cell_type": "code",
   "execution_count": null,
   "metadata": {},
   "outputs": [],
   "source": [
    "print(True, False) "
   ]
  },
  {
   "cell_type": "markdown",
   "metadata": {},
   "source": [
    "In Python, True and False are equvalent to the integers 1 and 0, respectively."
   ]
  },
  {
   "cell_type": "code",
   "execution_count": null,
   "metadata": {},
   "outputs": [],
   "source": [
    "print(True == 1)   # True is equivalent to 1.\n",
    "print(False == 0)  # False is equivalent to 0."
   ]
  },
  {
   "cell_type": "markdown",
   "metadata": {},
   "source": [
    "These are the comparison operators in python:"
   ]
  },
  {
   "cell_type": "code",
   "execution_count": null,
   "metadata": {},
   "outputs": [],
   "source": [
    "print('4 > 2:  %s' %(4 > 2))    # Greater than\n",
    "print('4 < 2:  %s' %(4 < 2))    # Less than\n",
    "print('4 == 2: %s' %(4 == 2))   # Equal to\n",
    "print('4 >= 2: %s' %(4 >= 2))   # Greater than or equal to\n",
    "print('4 <= 2: %s' %(4 <= 2))   # Less than or equal to\n",
    "print('4 != 2: %s' %(4 != 2))   # Not equal to to)"
   ]
  },
  {
   "cell_type": "markdown",
   "metadata": {},
   "source": [
    "Python also uses **is** and **not** operators."
   ]
  },
  {
   "cell_type": "code",
   "execution_count": null,
   "metadata": {},
   "outputs": [],
   "source": [
    "print(4 is 2)\n",
    "print(4 is not 2)"
   ]
  },
  {
   "cell_type": "markdown",
   "metadata": {},
   "source": [
    "## Containers\n",
    "### Lists\n",
    "Lists are the most basic container and are denoted by brackets. Lists can store any pythonic type, and elements of a list do not need to be of the same type."
   ]
  },
  {
   "cell_type": "code",
   "execution_count": null,
   "metadata": {},
   "outputs": [],
   "source": [
    "example_list = [1, 1., 1e3, 2+3j, True]\n",
    "print(example_list)"
   ]
  },
  {
   "cell_type": "markdown",
   "metadata": {},
   "source": [
    "Brackets are used again to index into lists. **NOTE:** Python is a 0-indexed language. The first element of a list \n",
    "is the 0th position of the list! "
   ]
  },
  {
   "cell_type": "code",
   "execution_count": null,
   "metadata": {},
   "outputs": [],
   "source": [
    "print('The first element of the list is %s.' %example_list[0])\n",
    "print('The third element of the list is %s.' %example_list[2])"
   ]
  },
  {
   "cell_type": "markdown",
   "metadata": {},
   "source": [
    "Mutliple elements from a list can be retrieved through slicing, which uses the colon operator."
   ]
  },
  {
   "cell_type": "code",
   "execution_count": null,
   "metadata": {},
   "outputs": [],
   "source": [
    "print(example_list[1:3])    # Second-through-third elements (up-to-not-include)\n",
    "print(example_list[1:])     # Second element onwards.\n",
    "print(example_list[:2])     # Up-through-second element."
   ]
  },
  {
   "cell_type": "markdown",
   "metadata": {},
   "source": [
    "Slicing also allows for the following operations:"
   ]
  },
  {
   "cell_type": "code",
   "execution_count": null,
   "metadata": {},
   "outputs": [],
   "source": [
    "print('list       = %s' %example_list)\n",
    "\n",
    "## Second-to-last element onwards\n",
    "print('list[-2:]  = %s' %example_list[-2:])  \n",
    "\n",
    "## Up to second-to-last element\n",
    "print('list[:-2]  = %s' %example_list[:-2])    \n",
    "\n",
    "## Every other element \n",
    "print('list[::2]  = %s' %example_list[::2])\n",
    "\n",
    "## Reverse elements.\n",
    "print('list[::-1] = %s' %example_list[::-1]) "
   ]
  },
  {
   "cell_type": "markdown",
   "metadata": {},
   "source": [
    "Slicing operators can be combined. Here we extract every other element, starting from the second through the second-to-last."
   ]
  },
  {
   "cell_type": "code",
   "execution_count": null,
   "metadata": {},
   "outputs": [],
   "source": [
    "print(example_list[1:-1:2])"
   ]
  },
  {
   "cell_type": "markdown",
   "metadata": {},
   "source": [
    "Indexing and slicing can also be used to update elements in the list."
   ]
  },
  {
   "cell_type": "code",
   "execution_count": null,
   "metadata": {},
   "outputs": [],
   "source": [
    "example_list[-1] = False\n",
    "example_list"
   ]
  },
  {
   "cell_type": "markdown",
   "metadata": {},
   "source": [
    "We can add new elements to the list using **append**. Note that this occurs **in-place.**"
   ]
  },
  {
   "cell_type": "code",
   "execution_count": null,
   "metadata": {},
   "outputs": [],
   "source": [
    "example_list.append( 111 )\n",
    "example_list"
   ]
  },
  {
   "cell_type": "markdown",
   "metadata": {},
   "source": [
    "**Insert** allows for adding new elements to specified positions."
   ]
  },
  {
   "cell_type": "code",
   "execution_count": null,
   "metadata": {},
   "outputs": [],
   "source": [
    "## (Index, Value)\n",
    "example_list.insert(0, 222)\n",
    "example_list"
   ]
  },
  {
   "cell_type": "markdown",
   "metadata": {},
   "source": [
    "Elements can be removed from a list using the **pop** or **remove** function. **Pop** deletes an element by its index, **remove** deletes an element by its value."
   ]
  },
  {
   "cell_type": "code",
   "execution_count": null,
   "metadata": {},
   "outputs": [],
   "source": [
    "print('Original: %s' %example_list)\n",
    "\n",
    "## Pop the third element\n",
    "example_list.pop(2)\n",
    "\n",
    "## Remove the value 111.\n",
    "example_list.remove(111)\n",
    "\n",
    "print('Now: %s' %example_list)"
   ]
  },
  {
   "cell_type": "markdown",
   "metadata": {},
   "source": [
    "The contents of a list can also be tested with the **in** operator."
   ]
  },
  {
   "cell_type": "code",
   "execution_count": null,
   "metadata": {},
   "outputs": [],
   "source": [
    "print( 222 in example_list )\n",
    "print( 999 in example_list )"
   ]
  },
  {
   "cell_type": "markdown",
   "metadata": {},
   "source": [
    "Strings are essentially lists with characters."
   ]
  },
  {
   "cell_type": "code",
   "execution_count": null,
   "metadata": {},
   "outputs": [],
   "source": [
    "print('string       = %s' %string)\n",
    "\n",
    "## 4th character onwards.\n",
    "print('string[4:]   = %s' %string[4:])   \n",
    "\n",
    "## Reversed string.\n",
    "print('string[::-1] = %s' %string[::-1]) \n",
    "\n",
    "## Every other character.\n",
    "print('string[::2]  = %s' %string[::2])"
   ]
  },
  {
   "cell_type": "markdown",
   "metadata": {},
   "source": [
    "### Tuples\n",
    "Tuples are denoted by parantheses. Tuples are like lists except that they are **immutable.** Tuples cannot be modified once they are created. "
   ]
  },
  {
   "cell_type": "code",
   "execution_count": null,
   "metadata": {
    "collapsed": true
   },
   "outputs": [],
   "source": [
    "example_list = [1, 2, 3, 4]\n",
    "example_tuple = (1, 2, 3, 4)"
   ]
  },
  {
   "cell_type": "code",
   "execution_count": null,
   "metadata": {},
   "outputs": [],
   "source": [
    "## Change the second element of the list.\n",
    "example_list[1] = 9\n",
    "print(example_list)"
   ]
  },
  {
   "cell_type": "code",
   "execution_count": null,
   "metadata": {},
   "outputs": [],
   "source": [
    "## Change the second element of the tuple.\n",
    "example_tuple[1] = 9\n",
    "print(example_tuple)"
   ]
  },
  {
   "cell_type": "markdown",
   "metadata": {},
   "source": [
    "### Dictionaries\n",
    "Dictionaries are simple lookup tables. They are denoted by curly brackets."
   ]
  },
  {
   "cell_type": "code",
   "execution_count": null,
   "metadata": {},
   "outputs": [],
   "source": [
    "example_dict = {'a':1, 'b':2, 'c':3}\n",
    "print(example_dict)\n",
    "print(example_dict['c'])"
   ]
  },
  {
   "cell_type": "markdown",
   "metadata": {},
   "source": [
    "Dictionaries can also be generated using the **dict()** command. Notice the slightly different syntax."
   ]
  },
  {
   "cell_type": "code",
   "execution_count": null,
   "metadata": {},
   "outputs": [],
   "source": [
    "example_dict = dict(a=1, b=2, c=3)\n",
    "print(example_dict)\n",
    "print(example_dict['c'])"
   ]
  },
  {
   "cell_type": "markdown",
   "metadata": {},
   "source": [
    "Dictionaries are comprised of \"keys\" and \"values\"."
   ]
  },
  {
   "cell_type": "code",
   "execution_count": null,
   "metadata": {},
   "outputs": [],
   "source": [
    "print(example_dict.keys())\n",
    "print(example_dict.values())"
   ]
  },
  {
   "cell_type": "markdown",
   "metadata": {},
   "source": [
    "Once initialized, new key/value pairs can be stored in a dictionary."
   ]
  },
  {
   "cell_type": "code",
   "execution_count": null,
   "metadata": {},
   "outputs": [],
   "source": [
    "example_dict['d'] = 4\n",
    "print(example_dict)"
   ]
  },
  {
   "cell_type": "markdown",
   "metadata": {},
   "source": [
    "## Control Flow in Python"
   ]
  },
  {
   "cell_type": "markdown",
   "metadata": {},
   "source": [
    "### For and While Loops\n",
    "For loops have a very simple syntax. "
   ]
  },
  {
   "cell_type": "code",
   "execution_count": null,
   "metadata": {},
   "outputs": [],
   "source": [
    "for x in [0, 1, 2, 3, 4]:\n",
    "    print(x)"
   ]
  },
  {
   "cell_type": "markdown",
   "metadata": {},
   "source": [
    "Elements of a list can be directly iterated over in python."
   ]
  },
  {
   "cell_type": "code",
   "execution_count": null,
   "metadata": {},
   "outputs": [],
   "source": [
    "for x in ['how', 'now', 'brown', 'cow']:\n",
    "    print(x)"
   ]
  },
  {
   "cell_type": "markdown",
   "metadata": {},
   "source": [
    "For loops can be paired with the **enumerate** command for indexing."
   ]
  },
  {
   "cell_type": "code",
   "execution_count": null,
   "metadata": {},
   "outputs": [],
   "source": [
    "for i, x in enumerate(example_list):\n",
    "    print(i,x)"
   ]
  },
  {
   "cell_type": "markdown",
   "metadata": {},
   "source": [
    "The **zip** command can be used to iterate over multiple lists at once."
   ]
  },
  {
   "cell_type": "code",
   "execution_count": null,
   "metadata": {},
   "outputs": [],
   "source": [
    "list1 = [0, 2, 4, 6, 8]\n",
    "list2 = ['zero', 'two', 'four', 'six', 'eight']\n",
    "\n",
    "for a,b in zip(list1,list2):\n",
    "    print(a,b)"
   ]
  },
  {
   "cell_type": "markdown",
   "metadata": {},
   "source": [
    "**While** loops are similarly simple. While loops are initialized with a boolean statement. While True, the while loop will continue executing. Once False, the while loop terminates."
   ]
  },
  {
   "cell_type": "code",
   "execution_count": null,
   "metadata": {},
   "outputs": [],
   "source": [
    "i = 0\n",
    "while i < 5:\n",
    "    print(i)\n",
    "    i += 1  "
   ]
  },
  {
   "cell_type": "markdown",
   "metadata": {},
   "source": [
    "### Conditional logic with if, elif, else"
   ]
  },
  {
   "cell_type": "markdown",
   "metadata": {},
   "source": [
    "In python, the three conditional statements are if, elif, and else.\n",
    "Here we will construct a simple for-loop testing parity."
   ]
  },
  {
   "cell_type": "code",
   "execution_count": null,
   "metadata": {},
   "outputs": [],
   "source": [
    "example_list = [4, 7, 9.4]\n",
    "\n",
    "for x in example_list:\n",
    "    \n",
    "    if x % 2 == 0: \n",
    "        print('%s is even.' %x)\n",
    "        \n",
    "    elif x % 2 == 1:\n",
    "        print('%s is odd.' %x)\n",
    "        \n",
    "    else: \n",
    "        print('%s is not an integer.' %x)"
   ]
  },
  {
   "cell_type": "markdown",
   "metadata": {},
   "source": [
    "### Contiue and Break statements\n",
    "Conditional logic statements can be paired with the \"continue\" and \"break\" \n",
    "statments for additional control flow in For and While loops. The \"continue\"\n",
    "statement skips the current iteration of a For/While loop, whereas the\n",
    "\"break\" statement terminates the For/While loop.\n",
    "\n",
    "Below is an example of the continue statement. The for loop skips at the odd numbers."
   ]
  },
  {
   "cell_type": "code",
   "execution_count": null,
   "metadata": {},
   "outputs": [],
   "source": [
    "example_list = [4, 7, 9.4]\n",
    "\n",
    "for x in example_list:\n",
    "    \n",
    "    if x % 2 == 0: \n",
    "        print('%s is even.' %x)\n",
    "        \n",
    "    elif x % 2 == 1:\n",
    "        continue\n",
    "        print('%s is odd.' %x)\n",
    "        \n",
    "    else: \n",
    "        print('%s is not an integer.' %x)"
   ]
  },
  {
   "cell_type": "markdown",
   "metadata": {},
   "source": [
    "An example of the **break** statement. The for loop terminates at the first odd number."
   ]
  },
  {
   "cell_type": "code",
   "execution_count": null,
   "metadata": {},
   "outputs": [],
   "source": [
    "example_list = [4, 7, 9.4]\n",
    "\n",
    "for x in example_list:\n",
    "    \n",
    "    if x % 2 == 0: \n",
    "        print('%s is even.' %x)\n",
    "        \n",
    "    elif x % 2 == 1:\n",
    "        break\n",
    "        print('%s is odd.' %x)\n",
    "        \n",
    "    else: \n",
    "        print('%s is not an integer.' %x)"
   ]
  },
  {
   "cell_type": "markdown",
   "metadata": {},
   "source": [
    "### List comprehensions\n",
    "Python also allows for embedding For loops within lists as a nifty way of constructing/modifying lists. List comprehensions are very powerful (though sometimes memory intensive) and can be constructed with a few different syntaxes."
   ]
  },
  {
   "cell_type": "markdown",
   "metadata": {},
   "source": [
    "Inclusive/exclusive list comprehension: here we exclude variables from the list if they do not meet a certain criterion."
   ]
  },
  {
   "cell_type": "code",
   "execution_count": null,
   "metadata": {},
   "outputs": [],
   "source": [
    "[x for x in range(10) if x > 5]"
   ]
  },
  {
   "cell_type": "markdown",
   "metadata": {},
   "source": [
    "Conditional list comprehension: here we transform variables from the list based on whether they meet a certain criterion."
   ]
  },
  {
   "cell_type": "code",
   "execution_count": null,
   "metadata": {},
   "outputs": [],
   "source": [
    "['odd' if x % 2 == 1 else 'even' for x in range(5)]"
   ]
  },
  {
   "cell_type": "markdown",
   "metadata": {},
   "source": [
    "Note that else statements can be chained in list comprehensions."
   ]
  },
  {
   "cell_type": "code",
   "execution_count": null,
   "metadata": {},
   "outputs": [],
   "source": [
    "example_list = [4, 7, 9.4]\n",
    "\n",
    "['odd' if x % 2 == 1 else 'even' if x % 2 == 0 else 'non-integer' for x in example_list]"
   ]
  },
  {
   "cell_type": "markdown",
   "metadata": {},
   "source": [
    "### Error handling with try/except logic.\n",
    "Python allows for intelligent error handling with the \"try\" and \"except\" logics. Code nested under a \"try\" command will be evaluated. If an error arises under a try block, the code in the except block will be evaluated instead. This is useful for handling exceptions and preventing scripts from breaking. Use with caution though if you cannot predict error corner cases!\n",
    "\n",
    "Here we will test try/except logic with a division-by-zero error. Note that I am specifying the error class, i.e. ZeroDivisionError. Python has a number of built-in error types, and it is better to specify the exact type of error you expect to ensure that only those types of errors are passed to the except block. Multiple excepts are permissible in try/except workflows."
   ]
  },
  {
   "cell_type": "code",
   "execution_count": null,
   "metadata": {},
   "outputs": [],
   "source": [
    "## An example divide by zero error.\n",
    "example_list = [2, 10, 0]\n",
    "\n",
    "for x in example_list:\n",
    "    print(20 / x)"
   ]
  },
  {
   "cell_type": "code",
   "execution_count": null,
   "metadata": {},
   "outputs": [],
   "source": [
    "## An example try/catch handling divide by zero errors.\n",
    "example_list = [2, 10, 0]\n",
    "\n",
    "for x in example_list:\n",
    "    try:\n",
    "        print(20 / x)\n",
    "    except ZeroDivisionError: \n",
    "        print('You cannot divide 0, silly!')"
   ]
  },
  {
   "cell_type": "markdown",
   "metadata": {},
   "source": [
    "## Basic Commands in Python"
   ]
  },
  {
   "cell_type": "markdown",
   "metadata": {},
   "source": [
    "The most important command is the **range** command. Range produces a list of sequential integers and is identical to **seq** in R."
   ]
  },
  {
   "cell_type": "code",
   "execution_count": null,
   "metadata": {},
   "outputs": [],
   "source": [
    "print('range(5)     = %s' %range(5))     # Specify stop position.\n",
    "print('range(0,5)   = %s' %range(5))     # Specify start & stop position\n",
    "print('range(0,5,2) = %s' %range(0,5,2)) # Specify start, stop, and by.\n",
    "\n",
    "for x in range(0,5,2):\n",
    "    print(x)"
   ]
  },
  {
   "cell_type": "markdown",
   "metadata": {},
   "source": [
    "Each python type has its own function for the purpose of converting variables to different types. "
   ]
  },
  {
   "cell_type": "code",
   "execution_count": null,
   "metadata": {},
   "outputs": [],
   "source": [
    "X = range(5)\n",
    "\n",
    "print( list(X) )    # Range as list.\n",
    "print( tuple(X) )   # Range as tuple.\n",
    "print( str(X) )     # Range as string (converts to string literally)."
   ]
  },
  {
   "cell_type": "markdown",
   "metadata": {},
   "source": [
    "The **type** and **isinstance** commands can be used to check the type of variables."
   ]
  },
  {
   "cell_type": "code",
   "execution_count": null,
   "metadata": {},
   "outputs": [],
   "source": [
    "X = [1, 4, 5, 2]\n",
    "\n",
    "print( type(X) )\n",
    "print( type(X) == str )\n",
    "print( isinstance(X, list) )"
   ]
  },
  {
   "cell_type": "code",
   "execution_count": null,
   "metadata": {
    "collapsed": true
   },
   "outputs": [],
   "source": [
    "## There are commands to modify lists"
   ]
  },
  {
   "cell_type": "code",
   "execution_count": null,
   "metadata": {},
   "outputs": [],
   "source": [
    "example_list = [4, 1, 5, 2, 7, 1, 2, 3]\n",
    "\n",
    "print(sorted(example_list))    # Sort list.\n",
    "print(set(example_list))       # Get unique elements of list. Returns set."
   ]
  },
  {
   "cell_type": "code",
   "execution_count": null,
   "metadata": {},
   "outputs": [],
   "source": [
    "## There are also commands to summarize lists.\n",
    "print(len(example_list))    # Count element in list.\n",
    "print(sum(example_list))    # Sum across list."
   ]
  },
  {
   "cell_type": "code",
   "execution_count": null,
   "metadata": {},
   "outputs": [],
   "source": [
    "## The any/all commands are very useful for testing if any \n",
    "## conditionals are met in a list.\n",
    "example_list = [True if x > 2 else False for x in range(5)]\n",
    "print(example_list)\n",
    "print(any(example_list))\n",
    "print(all(example_list))"
   ]
  },
  {
   "cell_type": "markdown",
   "metadata": {},
   "source": [
    "## Defining Functions\n",
    "Define new functions with **def** and **return** functions. Any arguments specified in the **def** statement are necessary arguments for the newly defined function. "
   ]
  },
  {
   "cell_type": "code",
   "execution_count": null,
   "metadata": {
    "collapsed": true
   },
   "outputs": [],
   "source": [
    "def average(X):\n",
    "    '''Compute arithmetic mean for list, X.'''\n",
    "    return sum(X) / len(X)\n",
    "\n",
    "average?"
   ]
  },
  {
   "cell_type": "code",
   "execution_count": null,
   "metadata": {},
   "outputs": [],
   "source": [
    "## Define an example list.\n",
    "example_list = [2, 2, 2, 3, 3, 2, 1, 4]\n",
    "\n",
    "## Compute average.\n",
    "print( 'Average: %0.3f' %average(example_list) )"
   ]
  },
  {
   "cell_type": "markdown",
   "metadata": {},
   "source": [
    "Arguments of user-defined functions can also be assigned default parameters."
   ]
  },
  {
   "cell_type": "code",
   "execution_count": null,
   "metadata": {},
   "outputs": [],
   "source": [
    "def average(X, weights=False):\n",
    "    '''Compute arithmetic mean for list, X. Weighted average will be computed if weights are given.'''\n",
    "    if not weights: weights = [1] * len(X)\n",
    "    return sum( [x*w for x,w in zip(X,weights)] ) / sum(weights)    \n",
    "\n",
    "## Define some weights.\n",
    "weights = [1, 1, 1, 0.5, 0.5, 2, 4, 0.25]\n",
    "\n",
    "## Compute average / weighted average.\n",
    "print( 'Average:          %0.3f' %average(example_list) )\n",
    "print( 'Weighted average: %0.3f' %average(example_list, weights) )"
   ]
  },
  {
   "cell_type": "code",
   "execution_count": null,
   "metadata": {},
   "outputs": [],
   "source": [
    "## The lambda operator can also be used to define short functions.\n",
    "average = lambda X: sum(X) / len(X)\n",
    "\n",
    "print( 'Average: %0.3f' %average(example_list) )"
   ]
  },
  {
   "cell_type": "markdown",
   "metadata": {},
   "source": [
    "# Section 3: Introduction to Numpy"
   ]
  },
  {
   "cell_type": "markdown",
   "metadata": {},
   "source": [
    "## Importing Modules\n",
    "If vanilla python seems rather lackluster, that's because it is. Fortunately, the scientific stack adds a broad and powerful array of python packages fill in the gaps. Once installed, packages in python are easily loaded for use."
   ]
  },
  {
   "cell_type": "code",
   "execution_count": 1,
   "metadata": {},
   "outputs": [
    {
     "name": "stdout",
     "output_type": "stream",
     "text": [
      "1.13.0\n"
     ]
    }
   ],
   "source": [
    "import numpy\n",
    "print(numpy.__version__)"
   ]
  },
  {
   "cell_type": "markdown",
   "metadata": {},
   "source": [
    "Commands from packages are like attributes of objects. For convenience, we will import packages using shorthand."
   ]
  },
  {
   "cell_type": "code",
   "execution_count": 2,
   "metadata": {},
   "outputs": [
    {
     "name": "stdout",
     "output_type": "stream",
     "text": [
      "1.13.0\n"
     ]
    }
   ],
   "source": [
    "import numpy as np\n",
    "print(np.__version__)"
   ]
  },
  {
   "cell_type": "markdown",
   "metadata": {},
   "source": [
    "## NumPy Arrays\n",
    "### Why arrays improve on lists\n",
    "Arrays are the most basic type of the NumPy package. NumPy arrays are vectors (Nx1), similar to pythonic lists. In contrast to lists, however, arrays have many more attributes and can be modified in substantially more ways. Several examples are provided below demonstrating the improvement of arrays over lists."
   ]
  },
  {
   "cell_type": "code",
   "execution_count": 8,
   "metadata": {},
   "outputs": [
    {
     "name": "stdout",
     "output_type": "stream",
     "text": [
      "[0, 1, 2, 3, 4]\n",
      "[0, 1, 2, 3, 4, 0, 1, 2, 3, 4, 0, 1, 2, 3, 4]\n"
     ]
    },
    {
     "ename": "TypeError",
     "evalue": "can't multiply sequence by non-int of type 'list'",
     "output_type": "error",
     "traceback": [
      "\u001b[0;31m---------------------------------------------------------------------------\u001b[0m",
      "\u001b[0;31mTypeError\u001b[0m                                 Traceback (most recent call last)",
      "\u001b[0;32m<ipython-input-8-675059c57f5c>\u001b[0m in \u001b[0;36m<module>\u001b[0;34m()\u001b[0m\n\u001b[1;32m      4\u001b[0m \u001b[0mprint\u001b[0m\u001b[0;34m(\u001b[0m\u001b[0mexample_list\u001b[0m\u001b[0;34m)\u001b[0m\u001b[0;34m\u001b[0m\u001b[0m\n\u001b[1;32m      5\u001b[0m \u001b[0mprint\u001b[0m\u001b[0;34m(\u001b[0m\u001b[0mexample_list\u001b[0m \u001b[0;34m*\u001b[0m \u001b[0;36m3\u001b[0m\u001b[0;34m)\u001b[0m            \u001b[0;31m# scalar * list\u001b[0m\u001b[0;34m\u001b[0m\u001b[0m\n\u001b[0;32m----> 6\u001b[0;31m \u001b[0mprint\u001b[0m\u001b[0;34m(\u001b[0m\u001b[0mexample_list\u001b[0m \u001b[0;34m*\u001b[0m \u001b[0mexample_list\u001b[0m\u001b[0;34m)\u001b[0m \u001b[0;31m# list * list\u001b[0m\u001b[0;34m\u001b[0m\u001b[0m\n\u001b[0m",
      "\u001b[0;31mTypeError\u001b[0m: can't multiply sequence by non-int of type 'list'"
     ]
    }
   ],
   "source": [
    "## Define example list.\n",
    "example_list = list(range(5))\n",
    "\n",
    "print(example_list)\n",
    "print(example_list * 3)            # scalar * list\n",
    "print(example_list * example_list) # list * list"
   ]
  },
  {
   "cell_type": "markdown",
   "metadata": {},
   "source": [
    "In contrast, NumPy arrays can be modified in this way. We use the **arange** command to initialize an array of sequential integers."
   ]
  },
  {
   "cell_type": "code",
   "execution_count": null,
   "metadata": {
    "collapsed": true
   },
   "outputs": [],
   "source": [
    "arr = np.arange(5)\n",
    "\n",
    "print(arr)\n",
    "print(arr * 3)\n",
    "print(arr * arr)"
   ]
  },
  {
   "cell_type": "markdown",
   "metadata": {},
   "source": [
    "Every array has an object type. These can be looked up and modified."
   ]
  },
  {
   "cell_type": "code",
   "execution_count": 12,
   "metadata": {},
   "outputs": [
    {
     "name": "stdout",
     "output_type": "stream",
     "text": [
      "[0 1 2 3 4] int64\n",
      "[ 0.  1.  2.  3.  4.] float64\n"
     ]
    }
   ],
   "source": [
    "print(arr, arr.dtype)   # Print current datatype.\n",
    "arr = arr.astype(float) # Conver to float.\n",
    "print(arr, arr.dtype)   # Print new datatype."
   ]
  },
  {
   "cell_type": "markdown",
   "metadata": {},
   "source": [
    "Numpy arrays store metadata about their contents. These can be helpful, especially the **shape** atribute."
   ]
  },
  {
   "cell_type": "code",
   "execution_count": 16,
   "metadata": {},
   "outputs": [
    {
     "name": "stdout",
     "output_type": "stream",
     "text": [
      "Array shape: (5,)\n",
      "Array size: 40\n"
     ]
    }
   ],
   "source": [
    "print('Array shape:', example_array.shape) # Print shape of array.\n",
    "print('Array size:', example_array.nbytes) # Print bytes of array."
   ]
  },
  {
   "cell_type": "markdown",
   "metadata": {},
   "source": [
    "Arrays now have a number of other built-in attributes \n",
    "not available for lists."
   ]
  },
  {
   "cell_type": "code",
   "execution_count": null,
   "metadata": {},
   "outputs": [],
   "source": [
    "print(example_array.min())     # Get max of array.\n",
    "print(example_array.max())     # Get min of array.\n",
    "print(example_array.mean())    # Get mean of array.\n",
    "print(example_array.sum())     # Get sum of array."
   ]
  },
  {
   "cell_type": "markdown",
   "metadata": {},
   "source": [
    "### Generating NumPy Arrays\n",
    "There are many ways of generating NumPy arrays. The most simple way is to convert a Python list to NumPy array using the **array** command."
   ]
  },
  {
   "cell_type": "code",
   "execution_count": 20,
   "metadata": {},
   "outputs": [
    {
     "name": "stdout",
     "output_type": "stream",
     "text": [
      "[4, 7, 9.4]\n",
      "[ 4.   7.   9.4]\n"
     ]
    }
   ],
   "source": [
    "## Making an array from a list using the array command.\n",
    "example_list = [4, 7, 9.4]\n",
    "arr = np.array(example_list)\n",
    "\n",
    "print(example_list)\n",
    "print(arr) "
   ]
  },
  {
   "cell_type": "markdown",
   "metadata": {},
   "source": [
    "NumPy has recreated all of the standard R/Matlab commands for \n",
    "generating arrays."
   ]
  },
  {
   "cell_type": "code",
   "execution_count": 46,
   "metadata": {},
   "outputs": [
    {
     "name": "stdout",
     "output_type": "stream",
     "text": [
      "np.arange(5)        = [0 1 2 3 4]\n",
      "np.zeros(5)         = [ 0.  0.  0.  0.  0.]\n",
      "np.ones(5)          = [ 1.  1.  1.  1.  1.]\n",
      "np.empty(5)         = [ 1.  1.  1.  1.  1.]\n",
      "np.linspace(0,10,5) = [  0.    2.5   5.    7.5  10. ]\n"
     ]
    }
   ],
   "source": [
    "print('np.arange(5)        = %s' %np.arange(5))         # Array of 5 sequential integers.\n",
    "print('np.zeros(5)         = %s' %np.zeros(5))          # Array of 5 zeros.\n",
    "print('np.ones(5)          = %s' %np.ones(5))           # Array of 5 ones.\n",
    "print('np.empty(5)         = %s' %np.empty(5))          # Array of 5 \"empty\" values.\n",
    "print('np.linspace(0,10,5) = %s' %np.linspace(0,10,5))  # Length-5 evenly-spaced array from 0 to 10."
   ]
  },
  {
   "cell_type": "markdown",
   "metadata": {},
   "source": [
    "## NumPy Matrices\n",
    "### Why matrices improve on lists\n",
    "It is possible to represent matrices in pythonic lists, though it is inefficient. Similar to the benefits of arrays, NumPy matrices dramatically improve upon the numerical capabilities of core python. Python can technically represent matrices as a list of lists."
   ]
  },
  {
   "cell_type": "code",
   "execution_count": 53,
   "metadata": {},
   "outputs": [
    {
     "name": "stdout",
     "output_type": "stream",
     "text": [
      "[[1, 2, 3, 4], [4, 5, 6, 7]]\n",
      "6\n"
     ]
    }
   ],
   "source": [
    "nested_lists = [[1,2,3,4],\n",
    "                [4,5,6,7]]\n",
    "\n",
    "print(nested_lists)\n",
    "print(nested_lists[1][2])   # To extract the 2nd row, 3rd column, two brackets are necessary."
   ]
  },
  {
   "cell_type": "markdown",
   "metadata": {},
   "source": [
    "NumPy matrices make this much easier!"
   ]
  },
  {
   "cell_type": "code",
   "execution_count": 54,
   "metadata": {},
   "outputs": [
    {
     "name": "stdout",
     "output_type": "stream",
     "text": [
      "[[1 2 3 4]\n",
      " [4 5 6 7]]\n",
      "6\n"
     ]
    }
   ],
   "source": [
    "mat = np.array(nested_lists)\n",
    "\n",
    "print(mat)\n",
    "print(mat[1,2])    # Much more efficient indexing!"
   ]
  },
  {
   "cell_type": "markdown",
   "metadata": {},
   "source": [
    "Indexing of NumPy matrices (and arrays for that matter) obey all of the slicing conventions of lists. Commas are used to demarcate which axis a slice operation is targeting."
   ]
  },
  {
   "cell_type": "code",
   "execution_count": 57,
   "metadata": {},
   "outputs": [
    {
     "name": "stdout",
     "output_type": "stream",
     "text": [
      "mat[1,2]  = 6\n",
      "mat[0,:]  = [1 2 3 4]\n",
      "mat[:,-1] = [4 7]\n"
     ]
    }
   ],
   "source": [
    "print('mat[1,2]  = %s' %mat[1,2])    # Second row, third column.\n",
    "print('mat[0,:]  = %s' %mat[0,:])    # All the first row.\n",
    "print('mat[:,-1] = %s' %mat[:,-1])   # All of the final column."
   ]
  },
  {
   "cell_type": "markdown",
   "metadata": {},
   "source": [
    "NumPy matrices have all the same attributes of NumPy arrays, but now functions can be applied to specific rows or columns in addition to the entire matrix."
   ]
  },
  {
   "cell_type": "code",
   "execution_count": 58,
   "metadata": {},
   "outputs": [
    {
     "name": "stdout",
     "output_type": "stream",
     "text": [
      "32\n",
      "[ 5  7  9 11]\n",
      "[10 22]\n"
     ]
    }
   ],
   "source": [
    "print( mat.sum() )          # Sum across matrix.\n",
    "print( mat.sum(axis=0) )    # Sum across columns.\n",
    "print( mat.sum(axis=1) )    # Sum across rows."
   ]
  },
  {
   "cell_type": "markdown",
   "metadata": {},
   "source": [
    "Note that arrays and matrices, despite different sizes, are the actually same NumPy class under the hood."
   ]
  },
  {
   "cell_type": "code",
   "execution_count": 60,
   "metadata": {},
   "outputs": [
    {
     "name": "stdout",
     "output_type": "stream",
     "text": [
      "<class 'numpy.ndarray'>\n",
      "<class 'numpy.ndarray'>\n"
     ]
    }
   ],
   "source": [
    "print(type(arr))\n",
    "print(type(mat))"
   ]
  },
  {
   "cell_type": "markdown",
   "metadata": {},
   "source": [
    "### Generating NumPy Matrices"
   ]
  },
  {
   "cell_type": "code",
   "execution_count": null,
   "metadata": {},
   "outputs": [],
   "source": [
    "## As demonstrated above, a nested list-of-lists can be made\n",
    "## into a NumPy matrix.\n",
    "example_list = [[0, 1, 1],[2, 3, 5], [8, 13, 21]]\n",
    "example_matrix = np.array(example_list)\n",
    "\n",
    "print(example_list)\n",
    "print(example_matrix)"
   ]
  },
  {
   "cell_type": "code",
   "execution_count": null,
   "metadata": {},
   "outputs": [],
   "source": [
    "## Matrices can also be formed by joining arrays using hstack, vstack, or concatenate.\n",
    "## hstack joins column vectors, vstack joins row vectors, and concatenate\n",
    "## allows the user to specify which axis to merge across.\n",
    "\n",
    "example_array = np.arange(4).reshape(4,1)\n",
    "print( np.hstack( [example_array,example_array] ) )    # Stack two arrays horizontally.\n",
    "\n",
    "example_array = example_array.reshape(1,4)\n",
    "print( np.vstack( [example_array,example_array] ) )    # Stack two arrays vertically.\n",
    "\n",
    "print( np.concatenate( [example_array, example_array], axis=0 ))"
   ]
  },
  {
   "cell_type": "code",
   "execution_count": null,
   "metadata": {},
   "outputs": [],
   "source": [
    "## NumPy has recreated all of the standard R/Matlab commands for \n",
    "## generating matrices.\n",
    "print( np.zeros( [3,3] ) )                 # 3x3 matrix of zeros.\n",
    "print( np.ones( [3,3] ) )                  # 3x3 matrix of ones.\n",
    "print( np.arange(9).reshape(3,3) )         # 3x3 matrix of sequential integers.\n",
    "print( np.linspace(0,8,9).reshape(3,3) )   # 3x3 matrix evenly-spaced array from 0 to 8. \n",
    "print( np.identity(3) )                    # 3x3 identity matrix."
   ]
  },
  {
   "cell_type": "code",
   "execution_count": null,
   "metadata": {},
   "outputs": [],
   "source": [
    "## Importantly, reshape can be used to change the shape of \n",
    "## NumPy arrays. The order flag can also change how they are\n",
    "## organized (row-ordered vs. column-ordered).\n",
    "example_array = np.arange(8)\n",
    "print(example_array)\n",
    "print(example_array.reshape(2,4,order='C'))    # Column-organized (default)\n",
    "print(example_array.reshape(2,4,order='F'))    # Row-organized"
   ]
  },
  {
   "cell_type": "code",
   "execution_count": null,
   "metadata": {},
   "outputs": [],
   "source": [
    "## The flatten command can be used to flatten matrices to arrays.\n",
    "example_matrix = np.identity(3)\n",
    "print(example_matrix)\n",
    "print(example_matrix.flatten())"
   ]
  },
  {
   "cell_type": "markdown",
   "metadata": {},
   "source": [
    "## Core NumPy Functions\n",
    "NumPy also introduces a number of useful functions designed to operate efficiently over NumPy arrays. The following is a non-exhaustive overview of some important NumPy functions."
   ]
  },
  {
   "cell_type": "markdown",
   "metadata": {},
   "source": [
    "### Rounding Functions"
   ]
  },
  {
   "cell_type": "code",
   "execution_count": null,
   "metadata": {},
   "outputs": [],
   "source": [
    "## NumPy has the same rounding functions as R.\n",
    "example_array = np.linspace(0,1,4)\n",
    "print(example_array)\n",
    "print( np.round(example_array, 2) )    # Round to the 2nd decimal.\n",
    "print( np.floor(example_array) )       # Round down.\n",
    "print( np.ceil(example_array) )        # Round up."
   ]
  },
  {
   "cell_type": "markdown",
   "metadata": {},
   "source": [
    "### Mathematical functions"
   ]
  },
  {
   "cell_type": "code",
   "execution_count": null,
   "metadata": {
    "collapsed": true
   },
   "outputs": [],
   "source": [
    "## NumPy includes a variety of mathematical functions.\n",
    "## All of these can be applied across an entire matrix \n",
    "## or across arrays.\n",
    "\n",
    "np.sum;       # Sum of an array or matrix.\n",
    "np.cumsum;    # Cumulative sum over an array.\n",
    "np.prod;      # Product of elements of an array.\n",
    "np.divide;    # Element-wise division of two arrays.\n",
    "np.diff;      # Pairwise difference of elements of an array.\n",
    "np.exp;       # Exponential transform.\n",
    "np.log;       # Natural logarithm.\n",
    "np.log10;     # Base-10 logarithm."
   ]
  },
  {
   "cell_type": "markdown",
   "metadata": {},
   "source": [
    "### Summary Functions"
   ]
  },
  {
   "cell_type": "code",
   "execution_count": null,
   "metadata": {
    "collapsed": true
   },
   "outputs": [],
   "source": [
    "## NumPy includes many functions to summarize an array.\n",
    "## With the exception of correlate, all of these can be\n",
    "## applied across an entire matrix or across arrays.\n",
    "\n",
    "np.min;           # Return the smallest element.\n",
    "np.max;           # Return the largest element.\n",
    "np.argmin;        # Return the index of the smallest element.\n",
    "np.argmax;        # Return the index of the largest element.\n",
    "np.mean;          # Compute the mean of an array.\n",
    "np.std;           # Compute the standard deviation of an array.\n",
    "np.var;           # Compute the variance (sd^2) of an array.\n",
    "np.percentile;    # Compute the xth percentile of an array.\n",
    "np.corrcoef;      # Compute the row-/col-wise correlation of a matrix."
   ]
  },
  {
   "cell_type": "markdown",
   "metadata": {},
   "source": [
    "### Set Functions"
   ]
  },
  {
   "cell_type": "code",
   "execution_count": null,
   "metadata": {
    "collapsed": true
   },
   "outputs": [],
   "source": [
    "## NumPy includes functions for identifying unique elements\n",
    "## within or between arrays.\n",
    "arr1 = np.array([41, 16, 34, 0, 2, 20, 19, 14, 22, 15, 18, 9, 35, 41])\n",
    "arr2 = np.array([42, 22, 40, 7, 33, 0, 12, 19, 44, 10, 31, 11, 11, 49])"
   ]
  },
  {
   "cell_type": "code",
   "execution_count": null,
   "metadata": {},
   "outputs": [],
   "source": [
    "# Sort elements (ascending order).\n",
    "np.sort(arr1)"
   ]
  },
  {
   "cell_type": "code",
   "execution_count": null,
   "metadata": {},
   "outputs": [],
   "source": [
    "# Return unique elements.\n",
    "np.unique(arr1)"
   ]
  },
  {
   "cell_type": "code",
   "execution_count": null,
   "metadata": {},
   "outputs": [],
   "source": [
    "# Return unique elements, count number of appearances.\n",
    "np.unique(arr1, return_counts=True)"
   ]
  },
  {
   "cell_type": "code",
   "execution_count": null,
   "metadata": {},
   "outputs": [],
   "source": [
    "# Find the elements of array-1 in array-2.\n",
    "np.in1d(arr1, arr2)"
   ]
  },
  {
   "cell_type": "code",
   "execution_count": null,
   "metadata": {},
   "outputs": [],
   "source": [
    "# Return all unique elements of arrays 1 & 2.\n",
    "np.union1d(arr1, arr2)"
   ]
  },
  {
   "cell_type": "code",
   "execution_count": null,
   "metadata": {},
   "outputs": [],
   "source": [
    "# Return all elements belonging to both arrays 1 & 2.\n",
    "np.intersect1d(arr1, arr2)"
   ]
  },
  {
   "cell_type": "markdown",
   "metadata": {},
   "source": [
    "### Shortcut Functions"
   ]
  },
  {
   "cell_type": "code",
   "execution_count": null,
   "metadata": {},
   "outputs": [],
   "source": [
    "## NumPy includes a number of very helpful functions that act to replace list \n",
    "## comprehensions (np.where) and for loops (np.apply_across_axis, np.apply_over_axes). \n",
    "## These are often more efficient than writing out a full For loop.\n",
    "## We will emphasize these functions with a simple example of standard-scoring (z-scoring)\n",
    "## a matrix.\n",
    "\n",
    "## Define the standard score (z-score) function.\n",
    "def zscore(arr): \n",
    "    '''Standard score'''\n",
    "    return (arr - arr.mean()) / arr.std()\n",
    "\n",
    "## Define a simple matrix.\n",
    "mat = np.arange(12).reshape(2,6)\n",
    "print(mat)\n",
    "\n",
    "## Use np.appy_across_axis to apply our function across each row.\n",
    "zmat = np.apply_along_axis(zscore, axis=1, arr=mat)\n",
    "print(zmat.round(2))\n",
    "\n",
    "## Use the np.where command to set all negative numbers to 0, else 1.\n",
    "## np.where is identical to the which() command in R. \n",
    "amat = np.where(zmat < 0, 0, 1)\n",
    "print(amat)\n",
    "\n",
    "## If no transforms are specified, np.where returns the indices of the\n",
    "## array where the conditional is met.\n",
    "print( np.where(zmat < 0 ) )"
   ]
  },
  {
   "cell_type": "markdown",
   "metadata": {},
   "source": [
    "### Linear Algebra Functions"
   ]
  },
  {
   "cell_type": "code",
   "execution_count": null,
   "metadata": {},
   "outputs": [],
   "source": [
    "## NumPy includes an entire submodule dedicated to efficient linear \n",
    "## algebra functions (though it should be noted that SciPy has\n",
    "## reimplemented them for maximal efficiency). See np.linalg for \n",
    "## a full list of commands.\n",
    "mat = np.arange(16).reshape(4,4)\n",
    "\n",
    "print(mat)\n",
    "print(mat.T)           # Transpose the matrix\n",
    "print(np.diag(mat))    # Return diagonal of matrix\n",
    "print(np.triu(mat))    # Return upper triangular matrix\n",
    "print(mat.dot(mat))    # Matrix multiply itself."
   ]
  },
  {
   "cell_type": "code",
   "execution_count": null,
   "metadata": {
    "collapsed": true
   },
   "outputs": [],
   "source": [
    "## Linear algebra operations include:\n",
    "np.linalg.norm;        # Vector or matrix norm\n",
    "np.linalg.inv;         # Inverse of a square matrix\n",
    "np.linalg.det;         # Determinant of a square matrix\n",
    "np.linalg.eig;         # Eigenvalues and vectors of a square matrix\n",
    "np.linalg.cholesky;    # Cholesky decomposition of a matrix\n",
    "np.linalg.svd;         # Singular value decomposition of a matrix\n",
    "np.linalg.lstsq;       # Solve linear least-squares problem"
   ]
  },
  {
   "cell_type": "markdown",
   "metadata": {},
   "source": [
    "### Generating Random Data"
   ]
  },
  {
   "cell_type": "code",
   "execution_count": null,
   "metadata": {},
   "outputs": [],
   "source": [
    "## NumPy also includes many functions for generating random data. \n",
    "## For a full list of functions, tab-complete on np.random.\n",
    "\n",
    "print( np.random.randint(0,10,10) )    # Generate ten random integers between 0-9.\n",
    "print( np.random.normal(0,1,5) )       # Generate five random samples of a normal distribution with mu=0,sd=1.\n",
    "print( np.random.binomial(1,0.5,10))   # Generate 10 random coin flips.\n",
    "\n",
    "print( np.random.choice(np.arange(10), 5, replace=False) ) # Choose five numbers from 0-9 without replacement."
   ]
  }
 ],
 "metadata": {
  "kernelspec": {
   "display_name": "Python 3",
   "language": "python",
   "name": "python3"
  },
  "language_info": {
   "codemirror_mode": {
    "name": "ipython",
    "version": 3
   },
   "file_extension": ".py",
   "mimetype": "text/x-python",
   "name": "python",
   "nbconvert_exporter": "python",
   "pygments_lexer": "ipython3",
   "version": "3.6.1"
  },
  "toc": {
   "colors": {
    "hover_highlight": "#DAA520",
    "navigate_num": "#000000",
    "navigate_text": "#333333",
    "running_highlight": "#FF0000",
    "selected_highlight": "#FFD700",
    "sidebar_border": "#EEEEEE",
    "wrapper_background": "#FFFFFF"
   },
   "moveMenuLeft": true,
   "nav_menu": {
    "height": "512px",
    "width": "252px"
   },
   "navigate_menu": true,
   "number_sections": false,
   "sideBar": true,
   "threshold": 4,
   "toc_cell": false,
   "toc_section_display": "block",
   "toc_window_display": true,
   "widenNotebook": false
  }
 },
 "nbformat": 4,
 "nbformat_minor": 2
}
